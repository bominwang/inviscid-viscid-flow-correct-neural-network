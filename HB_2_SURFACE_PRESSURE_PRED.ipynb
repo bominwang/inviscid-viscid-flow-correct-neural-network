{
  "nbformat": 4,
  "nbformat_minor": 0,
  "metadata": {
    "colab": {
      "provenance": [],
      "authorship_tag": "ABX9TyNgugQMnxMFaE7Mydzs/ot9",
      "include_colab_link": true
    },
    "kernelspec": {
      "name": "python3",
      "display_name": "Python 3"
    },
    "language_info": {
      "name": "python"
    }
  },
  "cells": [
    {
      "cell_type": "markdown",
      "metadata": {
        "id": "view-in-github",
        "colab_type": "text"
      },
      "source": [
        "<a href=\"https://colab.research.google.com/github/bominwang/inviscid-viscid-flow-correct-neural-network/blob/HB-2-surface-pressure/HB_2_SURFACE_PRESSURE_PRED.ipynb\" target=\"_parent\"><img src=\"https://colab.research.google.com/assets/colab-badge.svg\" alt=\"Open In Colab\"/></a>"
      ]
    },
    {
      "cell_type": "markdown",
      "source": [
        "无粘网络构建"
      ],
      "metadata": {
        "id": "ph8F90UJLX4O"
      }
    },
    {
      "cell_type": "code",
      "source": [
        "# 加载谷歌云盘\n",
        "from google.colab import drive \n",
        "drive.mount('/content/drive')"
      ],
      "metadata": {
        "colab": {
          "base_uri": "https://localhost:8080/"
        },
        "id": "iDmh7XnTLeRy",
        "outputId": "3663f3f1-858e-4e79-e36c-d14cee815554"
      },
      "execution_count": 110,
      "outputs": [
        {
          "output_type": "stream",
          "name": "stdout",
          "text": [
            "Drive already mounted at /content/drive; to attempt to forcibly remount, call drive.mount(\"/content/drive\", force_remount=True).\n"
          ]
        }
      ]
    },
    {
      "cell_type": "code",
      "source": [
        "# 加载相应模块\n",
        "import time\n",
        "import pandas as pd\n",
        "import numpy as np\n",
        "import torch\n",
        "import pandas as pd\n",
        "import torch.nn as nn\n",
        "from torch.utils.data import DataLoader, TensorDataset\n",
        "from torch.optim import SGD\n",
        "from torch.autograd import Variable \n",
        "import matplotlib.pyplot as plt\n",
        "import tqdm\n",
        "from tqdm import trange"
      ],
      "metadata": {
        "id": "yCDSg3StOtAJ"
      },
      "execution_count": 111,
      "outputs": []
    },
    {
      "cell_type": "code",
      "source": [
        "# 加载数据集\n",
        "ins = pd.read_csv('drive/MyDrive/Colab Notebooks/bm_wang/data/HB2/inv/inv_input_data.csv')\n",
        "ins = np.array(ins)\n",
        "labs = pd.read_csv('drive/MyDrive/Colab Notebooks/bm_wang/data/HB2/inv/inv_output_data.csv')\n",
        "labs = np.array(labs)\n",
        "positions = labs[:,0].reshape(-1,10)\n",
        "labs = labs[:,1].reshape(-1,10)\n",
        "data_size = np.size(labs,0)\n",
        "# 样本展示\n",
        "for i in range(data_size):\n",
        "  position = positions[i, :]\n",
        "  lab = labs[i, :]\n",
        "  plt.plot(position, lab, 's')\n"
      ],
      "metadata": {
        "colab": {
          "base_uri": "https://localhost:8080/",
          "height": 265
        },
        "id": "eU2fCjMrO1Yi",
        "outputId": "981dc9d7-42d5-4f9e-e37c-ded50727ed01"
      },
      "execution_count": 112,
      "outputs": [
        {
          "output_type": "display_data",
          "data": {
            "text/plain": [
              "<Figure size 432x288 with 1 Axes>"
            ],
            "image/png": "[encoded data removed]"
          },
          "metadata": {
            "needs_background": "light"
          }
        }
      ]
    },
    {
      "cell_type": "code",
      "source": [
        "# 构建训练数据集\n",
        "train_data_ins = torch.from_numpy(ins[0:150, :])\n",
        "train_data_labs = torch.from_numpy(labs[0:150, :])\n",
        "\n",
        "test_data_ins = torch.from_numpy(ins[150:201, :])\n",
        "test_data_labs = torch.from_numpy(labs[150:201, :])\n",
        "\n",
        "train_set = TensorDataset(train_data_ins, train_data_labs)\n",
        "train_set = DataLoader(train_set, batch_size = 150, shuffle = True)\n",
        "\n",
        "# test_set = TensorDataset(test_data_ins, test_data_labs)\n",
        "# test_set = DataLoader(test_set,  batch_size = 50, shuffle = True)"
      ],
      "metadata": {
        "id": "u2wsjMzFa4Bz"
      },
      "execution_count": 113,
      "outputs": []
    },
    {
      "cell_type": "code",
      "source": [
        "# 构建网络结构\n",
        "class inviscid_nn(nn.Module):\n",
        "  def __init__(self) -> None:\n",
        "    super(inviscid_nn, self).__init__()\n",
        "\n",
        "    self.hidden_layer1 = nn.Sequential(\n",
        "        nn.Linear(2, 50),\n",
        "        nn.Dropout(0.5),\n",
        "        nn.BatchNorm1d(50),\n",
        "        nn.ReLU()\n",
        "    )\n",
        "    self.hidden_layer2 = nn.Sequential(\n",
        "        nn.Linear(50, 200),\n",
        "        nn.BatchNorm1d(200),\n",
        "        nn.ReLU()\n",
        "    )\n",
        "    self.hidden_layer3 = nn.Sequential(\n",
        "        nn.Linear(200, 200),\n",
        "        nn.BatchNorm1d(200),\n",
        "        nn.ReLU()\n",
        "    )\n",
        "    self.output_layer = nn.Sequential(\n",
        "        nn.Linear(200, 10)\n",
        "    )\n",
        "  def forward(self, x):\n",
        "    x = self.hidden_layer1(x)\n",
        "    x = self.hidden_layer2(x)\n",
        "    x = self.hidden_layer3(x)\n",
        "    y = torch.abs(self.output_layer(x))\n",
        "    return y\n",
        "\n",
        "# 实例化无粘网络\n",
        "inviscid_model = inviscid_nn()"
      ],
      "metadata": {
        "id": "no1VecIrgOXu"
      },
      "execution_count": 114,
      "outputs": []
    },
    {
      "cell_type": "code",
      "source": [
        "# 训练无粘网络\n",
        "optimizer = SGD(inviscid_model.parameters(), lr = 0.01)\n",
        "loss_function = nn.SmoothL1Loss()\n",
        "\n",
        "train_loss_history = []\n",
        "test_loss_history = []\n",
        "\n",
        "for epoch in trange(2500):\n",
        "  for index,(ins, lab) in enumerate(train_set):\n",
        "        ins = Variable(ins).reshape(-1,2).to(torch.float32)\n",
        "        lab = Variable(lab).reshape(-1,10).to(torch.float32)\n",
        "        # 反向传播\n",
        "        inviscid_model.train()\n",
        "        pred = inviscid_model(ins)\n",
        "        loss = loss_function(pred, lab)\n",
        "        train_loss_history.append(loss.item())\n",
        "        optimizer.zero_grad()\n",
        "        loss.backward()\n",
        "        optimizer.step()\n",
        "        # 测试集误差\n",
        "        inviscid_model.eval()\n",
        "        pred = inviscid_model(test_data_ins.reshape(-1,2).to(torch.float32))\n",
        "        loss = loss_function(pred, test_data_labs.reshape(-1,10).to(torch.float32))\n",
        "        test_loss_history.append(loss.item())\n",
        "plt.figure(2)\n",
        "plt.plot(train_loss_history)\n",
        "print(f'\\n无粘网络训练损失函数收敛于{train_loss_history[-1]}')\n",
        "plt.figure(3)\n",
        "plt.plot(test_loss_history)\n",
        "print(f'\\n无粘网络测试集损失函数收敛于{test_loss_history[-1]}')"
      ],
      "metadata": {
        "colab": {
          "base_uri": "https://localhost:8080/",
          "height": 605
        },
        "id": "kTfFle8rh3xY",
        "outputId": "612d6007-6247-44c2-9270-80654378f734"
      },
      "execution_count": 115,
      "outputs": [
        {
          "output_type": "stream",
          "name": "stderr",
          "text": [
            "100%|██████████| 2500/2500 [00:12<00:00, 206.62it/s]\n"
          ]
        },
        {
          "output_type": "stream",
          "name": "stdout",
          "text": [
            "\n",
            "无粘网络训练损失函数收敛于0.006790302228182554\n",
            "\n",
            "无粘网络测试集损失函数收敛于0.009088619612157345\n"
          ]
        },
        {
          "output_type": "display_data",
          "data": {
            "text/plain": [
              "<Figure size 432x288 with 1 Axes>"
            ],
            "image/png": "[encoded data removed]"
          },
          "metadata": {
            "needs_background": "light"
          }
        },
        {
          "output_type": "display_data",
          "data": {
            "text/plain": [
              "<Figure size 432x288 with 1 Axes>"
            ],
            "image/png": "[encoded data removed]"
          },
          "metadata": {
            "needs_background": "light"
          }
        }
      ]
    },
    {
      "cell_type": "code",
      "source": [
        "# 输出合理性验证\n",
        "inviscid_model.eval()\n"
      ],
      "metadata": {
        "colab": {
          "base_uri": "https://localhost:8080/"
        },
        "id": "fwkiF0B7qph4",
        "outputId": "68fe4148-9869-461c-872a-9b7d5e91e734"
      },
      "execution_count": 116,
      "outputs": [
        {
          "output_type": "execute_result",
          "data": {
            "text/plain": [
              "inviscid_nn(\n",
              "  (hidden_layer1): Sequential(\n",
              "    (0): Linear(in_features=2, out_features=50, bias=True)\n",
              "    (1): Dropout(p=0.5, inplace=False)\n",
              "    (2): BatchNorm1d(50, eps=1e-05, momentum=0.1, affine=True, track_running_stats=True)\n",
              "    (3): ReLU()\n",
              "  )\n",
              "  (hidden_layer2): Sequential(\n",
              "    (0): Linear(in_features=50, out_features=200, bias=True)\n",
              "    (1): BatchNorm1d(200, eps=1e-05, momentum=0.1, affine=True, track_running_stats=True)\n",
              "    (2): ReLU()\n",
              "  )\n",
              "  (hidden_layer3): Sequential(\n",
              "    (0): Linear(in_features=200, out_features=200, bias=True)\n",
              "    (1): BatchNorm1d(200, eps=1e-05, momentum=0.1, affine=True, track_running_stats=True)\n",
              "    (2): ReLU()\n",
              "  )\n",
              "  (output_layer): Sequential(\n",
              "    (0): Linear(in_features=200, out_features=10, bias=True)\n",
              "  )\n",
              ")"
            ]
          },
          "metadata": {},
          "execution_count": 116
        }
      ]
    }
  ]
}