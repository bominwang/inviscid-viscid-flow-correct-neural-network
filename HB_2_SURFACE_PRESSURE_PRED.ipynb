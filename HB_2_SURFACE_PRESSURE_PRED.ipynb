{
  "nbformat": 4,
  "nbformat_minor": 0,
  "metadata": {
    "colab": {
      "provenance": [],
      "authorship_tag": "ABX9TyNcP6Z9SebvBAzJVCF7br6E",
      "include_colab_link": true
    },
    "kernelspec": {
      "name": "python3",
      "display_name": "Python 3"
    },
    "language_info": {
      "name": "python"
    }
  },
  "cells": [
    {
      "cell_type": "markdown",
      "metadata": {
        "id": "view-in-github",
        "colab_type": "text"
      },
      "source": [
        "<a href=\"https://colab.research.google.com/github/bominwang/inviscid-viscid-flow-correct-neural-network/blob/HB-2-surface-pressure/HB_2_SURFACE_PRESSURE_PRED.ipynb\" target=\"_parent\"><img src=\"https://colab.research.google.com/assets/colab-badge.svg\" alt=\"Open In Colab\"/></a>"
      ]
    },
    {
      "cell_type": "markdown",
      "source": [
        "无粘网络构建"
      ],
      "metadata": {
        "id": "ph8F90UJLX4O"
      }
    },
    {
      "cell_type": "code",
      "source": [
        "# 加载谷歌云盘\n",
        "from google.colab import drive \n",
        "drive.mount('/content/drive')"
      ],
      "metadata": {
        "colab": {
          "base_uri": "https://localhost:8080/"
        },
        "id": "iDmh7XnTLeRy",
        "outputId": "85e0fb4d-dfb8-4b7e-f644-78bff7f12e49"
      },
      "execution_count": 12,
      "outputs": [
        {
          "output_type": "stream",
          "name": "stdout",
          "text": [
            "Mounted at /content/drive\n"
          ]
        }
      ]
    },
    {
      "cell_type": "code",
      "source": [
        "# 加载相应模块\n",
        "import pandas as pd\n",
        "import numpy as np\n",
        "import torch\n",
        "import pandas as pd\n",
        "import torch.nn as nn\n",
        "from torch.utils import \n",
        "import matplotlib.pyplot as plt"
      ],
      "metadata": {
        "id": "yCDSg3StOtAJ"
      },
      "execution_count": 33,
      "outputs": []
    },
    {
      "cell_type": "code",
      "source": [
        "# 加载数据集\n",
        "ins = pd.read_csv('drive/MyDrive/Colab Notebooks/bm_wang/data/HB2/inv/inv_input_data.csv')\n",
        "ins = np.array(ins)\n",
        "labs = pd.read_csv('drive/MyDrive/Colab Notebooks/bm_wang/data/HB2/inv/inv_output_data.csv')\n",
        "labs = np.array(labs)\n",
        "positions = labs[:,0].reshape(-1,10)\n",
        "labs = labs[:,1].reshape(-1,10)\n",
        "data_size = np.size(labs,0)\n",
        "# 样本展示\n",
        "for i in range(data_size):\n",
        "  position = positions[i, :]\n",
        "  lab = labs[i, :]\n",
        "  plt.plot(position, lab, 's')\n"
      ],
      "metadata": {
        "colab": {
          "base_uri": "https://localhost:8080/",
          "height": 265
        },
        "id": "eU2fCjMrO1Yi",
        "outputId": "59580ece-6e6e-4498-8914-b5debd44b16e"
      },
      "execution_count": 34,
      "outputs": [
        {
          "output_type": "display_data",
          "data": {
            "text/plain": [
              "<Figure size 432x288 with 1 Axes>"
            ],
            "image/png": "[encoded data removed]"
          },
          "metadata": {
            "needs_background": "light"
          }
        }
      ]
    },
    {
      "cell_type": "code",
      "source": [
        "# 构建训练数据集\n",
        "train_data_ins = torch.from_numpy(ins[0:150, :])\n",
        "train_data_labs = torch.from_numpy(labs[0:150, :])\n",
        "\n",
        "test_data_ins = torch.from_numpy(ins[150:201, :])\n",
        "test_data_labs = torch.from_numpy(labs[150:201, :])"
      ],
      "metadata": {
        "id": "u2wsjMzFa4Bz"
      },
      "execution_count": 45,
      "outputs": []
    }
  ]
}