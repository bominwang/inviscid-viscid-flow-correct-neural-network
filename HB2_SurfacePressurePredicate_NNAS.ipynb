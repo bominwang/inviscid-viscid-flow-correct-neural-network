{
  "nbformat": 4,
  "nbformat_minor": 0,
  "metadata": {
    "colab": {
      "provenance": [],
      "authorship_tag": "ABX9TyPm8dAHujkLwlA4mmSExESg",
      "include_colab_link": true
    },
    "kernelspec": {
      "name": "python3",
      "display_name": "Python 3"
    },
    "language_info": {
      "name": "python"
    },
    "accelerator": "GPU",
    "gpuClass": "standard"
  },
  "cells": [
    {
      "cell_type": "markdown",
      "metadata": {
        "id": "view-in-github",
        "colab_type": "text"
      },
      "source": [
        "<a href=\"https://colab.research.google.com/github/bominwang/inviscid-viscid-flow-correct-neural-network/blob/HB-2-surface-pressure/HB2_SurfacePressurePredicate_NNAS.ipynb\" target=\"_parent\"><img src=\"https://colab.research.google.com/assets/colab-badge.svg\" alt=\"Open In Colab\"/></a>"
      ]
    },
    {
      "cell_type": "code",
      "source": [
        "from google.colab import drive \n",
        "drive.mount('/content/drive')\n",
        "import pdb"
      ],
      "metadata": {
        "colab": {
          "base_uri": "https://localhost:8080/"
        },
        "id": "9ThyGW7kV_fO",
        "outputId": "b01afa2d-8a7d-4631-ca47-f83931760cc8"
      },
      "execution_count": 68,
      "outputs": [
        {
          "output_type": "stream",
          "name": "stdout",
          "text": [
            "Drive already mounted at /content/drive; to attempt to forcibly remount, call drive.mount(\"/content/drive\", force_remount=True).\n"
          ]
        }
      ]
    },
    {
      "cell_type": "code",
      "execution_count": 69,
      "metadata": {
        "id": "JwOy1K3j9bE7"
      },
      "outputs": [],
      "source": [
        "import torch\n",
        "import random\n",
        "import pandas as pd\n",
        "import numpy as np\n",
        "import torch.nn as nn\n",
        "import torch.optim as optim\n",
        "from torch.autograd import Variable\n",
        "from torch.utils.data import DataLoader, TensorDataset\n",
        "import matplotlib\n",
        "from matplotlib import pyplot as plt\n",
        "import tqdm\n",
        "from tqdm import trange"
      ]
    },
    {
      "cell_type": "code",
      "source": [
        "!pip install optuna\n",
        "import optuna"
      ],
      "metadata": {
        "colab": {
          "base_uri": "https://localhost:8080/"
        },
        "id": "35D0VbBQ0sox",
        "outputId": "292ea187-dcca-44a4-959c-05545bc8ea7e"
      },
      "execution_count": 70,
      "outputs": [
        {
          "output_type": "stream",
          "name": "stdout",
          "text": [
            "Looking in indexes: https://pypi.org/simple, https://us-python.pkg.dev/colab-wheels/public/simple/\n",
            "Requirement already satisfied: optuna in /usr/local/lib/python3.8/dist-packages (3.1.0)\n",
            "Requirement already satisfied: colorlog in /usr/local/lib/python3.8/dist-packages (from optuna) (6.7.0)\n",
            "Requirement already satisfied: tqdm in /usr/local/lib/python3.8/dist-packages (from optuna) (4.64.1)\n",
            "Requirement already satisfied: sqlalchemy>=1.3.0 in /usr/local/lib/python3.8/dist-packages (from optuna) (1.4.46)\n",
            "Requirement already satisfied: packaging>=20.0 in /usr/local/lib/python3.8/dist-packages (from optuna) (23.0)\n",
            "Requirement already satisfied: alembic>=1.5.0 in /usr/local/lib/python3.8/dist-packages (from optuna) (1.9.3)\n",
            "Requirement already satisfied: numpy in /usr/local/lib/python3.8/dist-packages (from optuna) (1.21.6)\n",
            "Requirement already satisfied: PyYAML in /usr/local/lib/python3.8/dist-packages (from optuna) (6.0)\n",
            "Requirement already satisfied: cmaes>=0.9.1 in /usr/local/lib/python3.8/dist-packages (from optuna) (0.9.1)\n",
            "Requirement already satisfied: importlib-metadata in /usr/local/lib/python3.8/dist-packages (from alembic>=1.5.0->optuna) (6.0.0)\n",
            "Requirement already satisfied: importlib-resources in /usr/local/lib/python3.8/dist-packages (from alembic>=1.5.0->optuna) (5.10.2)\n",
            "Requirement already satisfied: Mako in /usr/local/lib/python3.8/dist-packages (from alembic>=1.5.0->optuna) (1.2.4)\n",
            "Requirement already satisfied: greenlet!=0.4.17 in /usr/local/lib/python3.8/dist-packages (from sqlalchemy>=1.3.0->optuna) (2.0.2)\n",
            "Requirement already satisfied: zipp>=0.5 in /usr/local/lib/python3.8/dist-packages (from importlib-metadata->alembic>=1.5.0->optuna) (3.12.0)\n",
            "Requirement already satisfied: MarkupSafe>=0.9.2 in /usr/local/lib/python3.8/dist-packages (from Mako->alembic>=1.5.0->optuna) (2.0.1)\n"
          ]
        }
      ]
    },
    {
      "cell_type": "code",
      "source": [
        "device = torch.device(\"cuda:0\" if torch.cuda.is_available() else \"cpu\")"
      ],
      "metadata": {
        "id": "IKtNSDyn-Xp6"
      },
      "execution_count": 71,
      "outputs": []
    },
    {
      "cell_type": "code",
      "source": [
        "def building_dataset(ins_path, lab_path, train_volume, device):\n",
        "  ins = pd.read_csv(ins_path)\n",
        "  labs = pd.read_csv(lab_path)\n",
        "  \n",
        "  ins = np.array(ins)\n",
        "  labs = np.array(labs)\n",
        "  labs = labs[:,1].reshape(-1,10)\n",
        "\n",
        "  data_volume = ins.shape[0]\n",
        "  test_volume = data_volume - train_volume\n",
        "  \n",
        "  data_index = list(range(data_volume))\n",
        "  train_index = random.sample(range(0, data_volume), train_volume)\n",
        "  test_index = np.setdiff1d(data_index, train_index)\n",
        "\n",
        "  train_data_ins = torch.from_numpy(ins[train_index, :])\n",
        "  train_data_labs = torch.from_numpy(labs[train_index, :])\n",
        "  \n",
        "  test_data_ins = torch.from_numpy(ins[test_index, :])\n",
        "  test_data_labs = torch.from_numpy(labs[test_index, :])\n",
        "  \n",
        "  train_set = TensorDataset(train_data_ins, train_data_labs)\n",
        "  train_set = DataLoader(train_set, batch_size = train_volume, shuffle = True)\n",
        "  \n",
        "  test_set = TensorDataset(test_data_ins, train_data_labs)\n",
        "  test_set = DataLoader(test_set, batch_size = test_volume, shuffle = True)\n",
        "\n",
        "  return train_set, test_set"
      ],
      "metadata": {
        "id": "Emkwat8DXw6h"
      },
      "execution_count": 72,
      "outputs": []
    },
    {
      "cell_type": "code",
      "source": [
        "def relative_root_mean_squared_error(pred, true):\n",
        "  size = pred.size(dim = 1)\n",
        "  error = torch.zeros(size, 1)\n",
        "  normalization_factor = torch.zeros(size, 1)\n",
        "  for index in range(size):\n",
        "    pred_element = pred[index, :]\n",
        "    true_element = true[index, :]\n",
        "    error[index, :] = torch.dot(pred_element - true_element, pred_element - true_element)\n",
        "    normalization_factor[index,:] = torch.dot(true_element, true_element)\n",
        "  return torch.sqrt(torch.div(torch.sum(error),torch.sum(normalization_factor)))"
      ],
      "metadata": {
        "id": "RKMcQdpNocrd"
      },
      "execution_count": 73,
      "outputs": []
    },
    {
      "cell_type": "code",
      "source": [
        "class inviscid_nn(nn.Module):\n",
        "  def __init__(self, hyperparameter):\n",
        "    super(inviscid_nn, self).__init__()\n",
        "\n",
        "    self.in_features = 2\n",
        "    self.num_layer = hyperparameter.suggest_int('num_layer',1,4)\n",
        "    self.layer = []\n",
        "\n",
        "    for i in range(self.num_layer):\n",
        "      self.out_features = hyperparameter.suggest_int(f'num_neurons_{i}', 10, 400)\n",
        "      self.layer.append(nn.Linear(self.in_features, self.out_features))\n",
        "      self.layer.append(nn.ReLU())\n",
        "      self.p = hyperparameter.suggest_float(f'dropout_{i}', 0.2, 0.5)\n",
        "      self.layer.append(nn.Dropout(self.p))\n",
        "      self.in_features = self.out_features\n",
        "    self.hidden_layer = nn.Sequential(*self.layer)\n",
        "    self.out_layer = nn.Sequential(\n",
        "        nn.Linear(self.in_features, 10)\n",
        "    )\n",
        "  def forward(self,x):\n",
        "    x = self.hidden_layer(x)\n",
        "    y = self.out_layer(x)\n",
        "    return y"
      ],
      "metadata": {
        "id": "kgdW2XSeTGxH"
      },
      "execution_count": 74,
      "outputs": []
    },
    {
      "cell_type": "code",
      "source": [
        "def objective_function(hyperparameter):\n",
        "  \n",
        "  model = inviscid_nn(hyperparameter).to(device)\n",
        "\n",
        "  lr = hyperparameter.suggest_float('lr',1e-5, 1e-1, log = True)\n",
        "\n",
        "  optimizer_name = hyperparameter.suggest_categorical(\"optimizer\", [\"Adam\", \"RMSprop\", \"SGD\"])\n",
        "  optimizer = getattr(optim, optimizer_name)(model.parameters(), lr=lr)\n",
        "\n",
        "  loss_name = hyperparameter.suggest_categorical('loss_function',['MSELoss','SmoothL1Loss','L1Loss'])\n",
        "  loss_function = getattr(nn, loss_name)()\n",
        "\n",
        "  ins_path = 'drive/MyDrive/Colab Notebooks/bm_wang/data/HB2/inv/inv_input_data.csv'\n",
        "  labs_path = 'drive/MyDrive/Colab Notebooks/bm_wang/data/HB2/inv/inv_output_data.csv'\n",
        "  train_set, test_set = building_dataset(ins_path, labs_path, 100, device)\n",
        "\n",
        "  epoches = 1000\n",
        "  for epoch in range(epoches):\n",
        "    for index, (ins, lab) in enumerate(train_set):\n",
        "      model.train()\n",
        "      ins = Variable(ins).reshape(-1,2).to(torch.float32).to(device)\n",
        "      lab = Variable(lab).reshape(-1,10).to(torch.float32).to(device)\n",
        "      optimizer.zero_grad()\n",
        "      pred = model(ins)\n",
        "      rmse = loss_function(pred, lab)\n",
        "      rmse.backward()\n",
        "      optimizer.step()\n",
        "\n",
        "    model.eval()\n",
        "    with torch.no_grad():\n",
        "      for index, (ins, lab) in enumerate(test_set):\n",
        "        ins = ins.reshape(-1,2).to(torch.float32).to(device)\n",
        "        lab = lab.reshape(-1,10).to(torch.float32).to(device)\n",
        "        pred = model(ins)\n",
        "        rrmse = relative_root_mean_squared_error(pred, lab)\n",
        "\n",
        "    hyperparameter.report(rrmse, epoch)\n",
        "  return rrmse"
      ],
      "metadata": {
        "id": "ErK_wmUid6h6"
      },
      "execution_count": 75,
      "outputs": []
    },
    {
      "cell_type": "code",
      "source": [
        "study = optuna.create_study(study_name = 'inviscid_nn', direction='minimize')\n",
        "study.optimize(objective_function, n_trials = 2, timeout = 1200)\n",
        "\n",
        "pruned_trials = [t for t in study.trials if t.state == optuna.trial.TrialState.PRUNED]\n",
        "complete_trials = [t for t in study.trials if t.state == optuna.trial.TrialState.COMPLETE]\n",
        "\n",
        "best_hyperparameter = study.best_params"
      ],
      "metadata": {
        "colab": {
          "base_uri": "https://localhost:8080/"
        },
        "id": "JO_zDgCyMU3R",
        "outputId": "4a4073ae-559b-4a1c-c9a5-9512dad9a530"
      },
      "execution_count": 76,
      "outputs": [
        {
          "output_type": "stream",
          "name": "stderr",
          "text": [
            "\u001b[32m[I 2023-02-09 04:25:13,021]\u001b[0m A new study created in memory with name: inviscid_nn\u001b[0m\n",
            "\u001b[32m[I 2023-02-09 04:25:17,976]\u001b[0m Trial 0 finished with value: 1.4418811798095703 and parameters: {'num_layer': 1, 'num_neurons_0': 379, 'dropout_0': 0.3609715533192931, 'lr': 1.2304269942930001e-05, 'optimizer': 'SGD', 'loss_function': 'SmoothL1Loss'}. Best is trial 0 with value: 1.4418811798095703.\u001b[0m\n",
            "\u001b[32m[I 2023-02-09 04:25:28,476]\u001b[0m Trial 1 finished with value: 0.08537169545888901 and parameters: {'num_layer': 4, 'num_neurons_0': 90, 'dropout_0': 0.4562773038995157, 'num_neurons_1': 19, 'dropout_1': 0.45903309834745504, 'num_neurons_2': 29, 'dropout_2': 0.37936522726082716, 'num_neurons_3': 368, 'dropout_3': 0.3821486766791572, 'lr': 5.5791242144636483e-05, 'optimizer': 'RMSprop', 'loss_function': 'MSELoss'}. Best is trial 1 with value: 0.08537169545888901.\u001b[0m\n"
          ]
        }
      ]
    },
    {
      "cell_type": "code",
      "source": [
        "class inviscid_nn(nn.Module):\n",
        "  def __init__(self, hyperparameter):\n",
        "    super(inviscid_nn, self).__init__()\n",
        "    \n",
        "    self.in_features = 2\n",
        "    self.num_layer = hyperparameter['num_layer']\n",
        "    self.layer = []\n",
        "\n",
        "    for i in range(self.num_layer):\n",
        "      self.out_features = hyperparameter[f'num_neurons_{i}']\n",
        "      self.layer.append(nn.Linear(self.in_features, self.out_features))\n",
        "      self.layer.append(nn.ReLU())\n",
        "      self.p = hyperparameter[f'dropout_{i}']\n",
        "      self.layer.append(nn.Dropout(self.p))\n",
        "      self.in_features = self.out_features\n",
        "    self.hidden_layer = nn.Sequential(*self.layer)\n",
        "    self.out_layer = nn.Sequential(\n",
        "        nn.Linear(self.in_features, 10)\n",
        "    )\n",
        "  def forward(self,x):\n",
        "    x = self.hidden_layer(x)\n",
        "    y = self.out_layer(x)\n",
        "    return y"
      ],
      "metadata": {
        "id": "ONCqLiQNL7VN"
      },
      "execution_count": 80,
      "outputs": []
    },
    {
      "cell_type": "code",
      "source": [
        "def train_process(model, hyperparameter):\n",
        "  \n",
        "  # model = inviscid_nn(study.best_params).to(device)\n",
        "  train_loss_history = []\n",
        "  test_loss_history = []\n",
        "  \n",
        "  lr = hyperparameter['lr']\n",
        "  optimizer_name = hyperparameter['optimizer']\n",
        "  optimizer = getattr(optim, optimizer_name)(model.parameters(), lr = lr)\n",
        "  loss_name = hyperparameter['loss_function']\n",
        "  loss_function = getattr(nn, loss_name)()\n",
        "\n",
        "  ins_path = 'drive/MyDrive/Colab Notebooks/bm_wang/data/HB2/inv/inv_input_data.csv'\n",
        "  labs_path = 'drive/MyDrive/Colab Notebooks/bm_wang/data/HB2/inv/inv_output_data.csv'\n",
        "\n",
        "  train_set, test_set = building_dataset(ins_path, labs_path, 100, device)\n",
        "\n",
        "  epoches = 5000\n",
        "  for epoch in trange(epoches):\n",
        "    for index, (ins, lab) in enumerate(train_set):\n",
        "      model.train()\n",
        "      ins = Variable(ins).reshape(-1,2).to(torch.float32).to(device)\n",
        "      lab = Variable(lab).reshape(-1,10).to(torch.float32).to(device)\n",
        "      optimizer.zero_grad()\n",
        "      pred = model(ins)\n",
        "      rmse = loss_function(pred, lab)\n",
        "      train_loss_history.append(rmse.item())\n",
        "      rmse.backward()\n",
        "      optimizer.step()\n",
        "      \n",
        "    model.eval()\n",
        "    with torch.no_grad():\n",
        "      for index, (ins, lab) in enumerate(test_set):\n",
        "        ins = ins.reshape(-1,2).to(torch.float32).to(device)\n",
        "        lab = lab.reshape(-1,10).to(torch.float32).to(device)\n",
        "        pred = model(ins)\n",
        "        rrmse = relative_root_mean_squared_error(pred, lab)\n",
        "        test_loss_history.append(rrmse.item())\n",
        "  plt.figure(1)\n",
        "  plt.plot(train_loss_history)\n",
        "  plt.title('loss of train set')\n",
        "  print(f'\\n无粘网络训练损失函数收敛于{train_loss_history[-1]}')\n",
        "  plt.figure(2)\n",
        "  plt.plot(test_loss_history,'g')\n",
        "  plt.title('loss of test set')\n",
        "  print(f'\\n无粘网络测试集损失函数收敛于{test_loss_history[-1]}')"
      ],
      "metadata": {
        "id": "zL52enUSRLf-"
      },
      "execution_count": 81,
      "outputs": []
    },
    {
      "cell_type": "code",
      "source": [
        "train_process(inviscid_nn(study.best_params).to(device), study.best_params)"
      ],
      "metadata": {
        "colab": {
          "base_uri": "https://localhost:8080/",
          "height": 637
        },
        "id": "Z6opqSWhTjNO",
        "outputId": "41fd7f6c-914e-4967-ef87-c0badde40c04"
      },
      "execution_count": 82,
      "outputs": [
        {
          "output_type": "stream",
          "name": "stderr",
          "text": [
            "100%|██████████| 5000/5000 [00:28<00:00, 172.68it/s]\n"
          ]
        },
        {
          "output_type": "stream",
          "name": "stdout",
          "text": [
            "\n",
            "无粘网络训练损失函数收敛于0.0002644002379383892\n",
            "\n",
            "无粘网络测试集损失函数收敛于0.08607970923185349\n"
          ]
        },
        {
          "output_type": "display_data",
          "data": {
            "text/plain": [
              "<Figure size 432x288 with 1 Axes>"
            ],
            "image/png": "[encoded data removed]"
          },
          "metadata": {
            "needs_background": "light"
          }
        },
        {
          "output_type": "display_data",
          "data": {
            "text/plain": [
              "<Figure size 432x288 with 1 Axes>"
            ],
            "image/png": "[encoded data removed]"
          },
          "metadata": {
            "needs_background": "light"
          }
        }
      ]
    },
    {
      "cell_type": "markdown",
      "source": [
        "# type1"
      ],
      "metadata": {
        "id": "g2BuRZvJVFbL"
      }
    },
    {
      "cell_type": "markdown",
      "source": [
        "\n",
        "```\n",
        "def define_inviscid_nn(hyperparameter):\n",
        "  num_layers = hyperparameter.suggest_int('num_layers', 1, 4)\n",
        "  layer = []\n",
        "  in_features = 2\n",
        "  # hidden layer\n",
        "  for i in range(num_layers):\n",
        "    out_features = hyperparameter.suggest_int(f'n_neurons_{i}', 10, 400)\n",
        "    layer.append(nn.Linear(in_features, out_features))\n",
        "    layer.append(nn.ReLU())\n",
        "    p = hyperparameter.suggest_float(f'dropout_{i}', 0.2, 0.5)\n",
        "    layer.append(nn.Dropout(p))\n",
        "    in_features = out_features\n",
        "  # output layer\n",
        "  layer.append(nn.Linear(in_features, 10))\n",
        "  \n",
        "  return nn.Sequential(*layer)\n",
        "     \n",
        "```\n"
      ],
      "metadata": {
        "id": "bXeCI5JO4se5"
      }
    },
    {
      "cell_type": "markdown",
      "source": [
        "\n",
        "\n",
        "```\n",
        "def objective_function(hyperparameter):\n",
        "  model = define_inviscid_nn(hyperparameter).to(device)\n",
        "  \n",
        "  lr = hyperparameter.suggest_float('lr',1e-5, 1e-1, log = True)\n",
        "  optimizer = optim.SGD(model.parameters(), lr = lr)\n",
        "  loss_function = nn.MSELoss()\n",
        "  \n",
        "  ins_path = 'drive/MyDrive/Colab Notebooks/bm_wang/data/HB2/inv/inv_input_data.csv'\n",
        "  labs_path = 'drive/MyDrive/Colab Notebooks/bm_wang/data/HB2/inv/inv_output_data.csv'\n",
        "  \n",
        "  train_set, test_set = building_dataset(ins_path, labs_path, 100, device)\n",
        "  \n",
        "  epoches = 1000\n",
        "  for epoch in range(epoches):\n",
        "    for index, (ins, lab) in enumerate(train_set):\n",
        "      model.train()\n",
        "      ins = Variable(ins).reshape(-1,2).to(torch.float32).to(device)\n",
        "      lab = Variable(lab).reshape(-1,10).to(torch.float32).to(device)\n",
        "      optimizer.zero_grad()\n",
        "      pred = model(ins)\n",
        "      rmse = loss_function(pred, lab)\n",
        "      rmse.backward()\n",
        "      optimizer.step()\n",
        "\n",
        "    model.eval()\n",
        "    with torch.no_grad():\n",
        "      for index, (ins, lab) in enumerate(test_set):\n",
        "        ins = ins.reshape(-1,2).to(torch.float32).to(device)\n",
        "        lab = lab.reshape(-1,10).to(torch.float32).to(device)\n",
        "        pred = model(ins)\n",
        "        rrmse = relative_root_mean_squared_error(pred, lab)\n",
        "    \n",
        "    hyperparameter.report(rrmse, epoch)\n",
        "  return rrmse\n",
        "```\n",
        "\n"
      ],
      "metadata": {
        "id": "DT4b0Kj52eJK"
      }
    },
    {
      "cell_type": "markdown",
      "source": [
        "# type2"
      ],
      "metadata": {
        "id": "0UVFbPXAVJ63"
      }
    },
    {
      "cell_type": "markdown",
      "source": [
        "\n",
        "\n",
        "```\n",
        "class inviscid_nn(nn.Module):\n",
        "  def __init__(self, hyperparameter):\n",
        "    super(inviscid_nn, self).__init__()\n",
        "    \n",
        "    self.in_features = 2\n",
        "    self.num_layer = hyperparameter.suggest_int('num_layer',1,4)\n",
        "    self.layer = []\n",
        "\n",
        "    for i in range(self.num_layer):\n",
        "      self.out_features = hyperparameter.suggest_int(f'num_neurons_{i}', 10, 400)\n",
        "      self.layer.append(nn.Linear(self.in_features, self.out_features))\n",
        "      self.layer.append(nn.ReLU())\n",
        "      self.p = hyperparameter.suggest_float(f'dropout_{i}', 0.2, 0.5)\n",
        "      self.layer.append(nn.Dropout(self.p))\n",
        "      self.in_features = self.out_features\n",
        "    self.hidden_layer = nn.Sequential(*self.layer)\n",
        "    self.out_layer = nn.Sequential(\n",
        "        nn.Linear(self.in_features, 10)\n",
        "    )\n",
        "  def forward(self,x):\n",
        "    x = self.hidden_layer(x)\n",
        "    y = self.out_layer(x)\n",
        "    return y\n",
        "```\n",
        "\n"
      ],
      "metadata": {
        "id": "kNdsAYZIU7RS"
      }
    },
    {
      "cell_type": "markdown",
      "source": [
        "\n",
        "\n",
        "```\n",
        "def objective_function(hyperparameter):\n",
        "  model = inviscid_nn(hyperparameter).to(device)\n",
        "  \n",
        "  lr = hyperparameter.suggest_float('lr',1e-5, 1e-1, log = True)\n",
        "  \n",
        "  optimizer_name = hyperparameter.suggest_categorical(\"optimizer\", [\"Adam\", \"RMSprop\", \"SGD\"])\n",
        "  optimizer = getattr(optim, optimizer_name)(model.parameters(), lr=lr)\n",
        "  \n",
        "  loss_name = hyperparameter.suggest_categorical('loss_function',['MSELoss','SmoothL1Loss','L1Loss'])\n",
        "  loss_function = getattr(nn, loss_name)()\n",
        "  \n",
        "  ins_path = 'drive/MyDrive/Colab Notebooks/bm_wang/data/HB2/inv/inv_input_data.csv'\n",
        "  labs_path = 'drive/MyDrive/Colab Notebooks/bm_wang/data/HB2/inv/inv_output_data.csv'\n",
        "  train_set, test_set = building_dataset(ins_path, labs_path, 100, device)\n",
        "  \n",
        "  epoches = 1000\n",
        "  for epoch in range(epoches):\n",
        "    for index, (ins, lab) in enumerate(train_set):\n",
        "      model.train()\n",
        "      ins = Variable(ins).reshape(-1,2).to(torch.float32).to(device)\n",
        "      lab = Variable(lab).reshape(-1,10).to(torch.float32).to(device)\n",
        "      optimizer.zero_grad()\n",
        "      pred = model(ins)\n",
        "      rmse = loss_function(pred, lab)\n",
        "      rmse.backward()\n",
        "      optimizer.step()\n",
        "\n",
        "    model.eval()\n",
        "    with torch.no_grad():\n",
        "      for index, (ins, lab) in enumerate(test_set):\n",
        "        ins = ins.reshape(-1,2).to(torch.float32).to(device)\n",
        "        lab = lab.reshape(-1,10).to(torch.float32).to(device)\n",
        "        pred = model(ins)\n",
        "        rrmse = relative_root_mean_squared_error(pred, lab)\n",
        "    \n",
        "    hyperparameter.report(rrmse, epoch)\n",
        "  return rrmse\n",
        "```\n",
        "\n"
      ],
      "metadata": {
        "id": "3d282ioSVAyL"
      }
    }
  ]
}