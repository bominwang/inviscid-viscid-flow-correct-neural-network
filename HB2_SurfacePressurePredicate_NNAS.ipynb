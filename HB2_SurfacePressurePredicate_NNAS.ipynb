{
  "nbformat": 4,
  "nbformat_minor": 0,
  "metadata": {
    "colab": {
      "provenance": [],
      "authorship_tag": "ABX9TyNoaNKaFi2H6ylWRFnCxQZw",
      "include_colab_link": true
    },
    "kernelspec": {
      "name": "python3",
      "display_name": "Python 3"
    },
    "language_info": {
      "name": "python"
    },
    "accelerator": "GPU",
    "gpuClass": "standard"
  },
  "cells": [
    {
      "cell_type": "markdown",
      "metadata": {
        "id": "view-in-github",
        "colab_type": "text"
      },
      "source": [
        "<a href=\"https://colab.research.google.com/github/bominwang/inviscid-viscid-flow-correct-neural-network/blob/HB-2-surface-pressure/HB2_SurfacePressurePredicate_NNAS.ipynb\" target=\"_parent\"><img src=\"https://colab.research.google.com/assets/colab-badge.svg\" alt=\"Open In Colab\"/></a>"
      ]
    },
    {
      "cell_type": "code",
      "source": [
        "from google.colab import drive \n",
        "drive.mount('/content/drive')\n",
        "import pdb"
      ],
      "metadata": {
        "colab": {
          "base_uri": "https://localhost:8080/"
        },
        "id": "9ThyGW7kV_fO",
        "outputId": "e591c3e6-e58c-4121-b8a0-2b390b02eeaf"
      },
      "execution_count": 69,
      "outputs": [
        {
          "output_type": "stream",
          "name": "stdout",
          "text": [
            "Drive already mounted at /content/drive; to attempt to forcibly remount, call drive.mount(\"/content/drive\", force_remount=True).\n"
          ]
        }
      ]
    },
    {
      "cell_type": "code",
      "execution_count": 70,
      "metadata": {
        "id": "JwOy1K3j9bE7"
      },
      "outputs": [],
      "source": [
        "import torch\n",
        "import random\n",
        "import pandas as pd\n",
        "import numpy as np\n",
        "import torch.nn as nn\n",
        "import torch.optim as optim\n",
        "from torch.autograd import Variable\n",
        "from torch.utils.data import DataLoader, TensorDataset\n",
        "import matplotlib\n",
        "from matplotlib import pyplot as plt\n",
        "import tqdm\n",
        "from tqdm import trange"
      ]
    },
    {
      "cell_type": "code",
      "source": [
        "!pip install optuna\n",
        "import optuna"
      ],
      "metadata": {
        "colab": {
          "base_uri": "https://localhost:8080/"
        },
        "id": "35D0VbBQ0sox",
        "outputId": "226bc815-cb54-4e05-fee0-9cd7e4b0ea83"
      },
      "execution_count": 71,
      "outputs": [
        {
          "output_type": "stream",
          "name": "stdout",
          "text": [
            "Looking in indexes: https://pypi.org/simple, https://us-python.pkg.dev/colab-wheels/public/simple/\n",
            "Requirement already satisfied: optuna in /usr/local/lib/python3.8/dist-packages (3.1.0)\n",
            "Requirement already satisfied: tqdm in /usr/local/lib/python3.8/dist-packages (from optuna) (4.64.1)\n",
            "Requirement already satisfied: packaging>=20.0 in /usr/local/lib/python3.8/dist-packages (from optuna) (23.0)\n",
            "Requirement already satisfied: cmaes>=0.9.1 in /usr/local/lib/python3.8/dist-packages (from optuna) (0.9.1)\n",
            "Requirement already satisfied: numpy in /usr/local/lib/python3.8/dist-packages (from optuna) (1.21.6)\n",
            "Requirement already satisfied: PyYAML in /usr/local/lib/python3.8/dist-packages (from optuna) (6.0)\n",
            "Requirement already satisfied: sqlalchemy>=1.3.0 in /usr/local/lib/python3.8/dist-packages (from optuna) (1.4.46)\n",
            "Requirement already satisfied: colorlog in /usr/local/lib/python3.8/dist-packages (from optuna) (6.7.0)\n",
            "Requirement already satisfied: alembic>=1.5.0 in /usr/local/lib/python3.8/dist-packages (from optuna) (1.9.3)\n",
            "Requirement already satisfied: Mako in /usr/local/lib/python3.8/dist-packages (from alembic>=1.5.0->optuna) (1.2.4)\n",
            "Requirement already satisfied: importlib-metadata in /usr/local/lib/python3.8/dist-packages (from alembic>=1.5.0->optuna) (6.0.0)\n",
            "Requirement already satisfied: importlib-resources in /usr/local/lib/python3.8/dist-packages (from alembic>=1.5.0->optuna) (5.10.2)\n",
            "Requirement already satisfied: greenlet!=0.4.17 in /usr/local/lib/python3.8/dist-packages (from sqlalchemy>=1.3.0->optuna) (2.0.2)\n",
            "Requirement already satisfied: zipp>=0.5 in /usr/local/lib/python3.8/dist-packages (from importlib-metadata->alembic>=1.5.0->optuna) (3.12.0)\n",
            "Requirement already satisfied: MarkupSafe>=0.9.2 in /usr/local/lib/python3.8/dist-packages (from Mako->alembic>=1.5.0->optuna) (2.0.1)\n"
          ]
        }
      ]
    },
    {
      "cell_type": "code",
      "source": [
        "def building_dataset(ins_path, lab_path, train_volume, device):\n",
        "  ins = pd.read_csv(ins_path)\n",
        "  labs = pd.read_csv(lab_path)\n",
        "  \n",
        "  ins = np.array(ins)\n",
        "  labs = np.array(labs)\n",
        "  labs = labs[:,1].reshape(-1,10)\n",
        "\n",
        "  data_volume = ins.shape[0]\n",
        "  test_volume = data_volume - train_volume\n",
        "  \n",
        "  data_index = list(range(data_volume))\n",
        "  train_index = random.sample(range(0, data_volume), train_volume)\n",
        "  test_index = np.setdiff1d(data_index, train_index)\n",
        "\n",
        "  train_data_ins = torch.from_numpy(ins[train_index, :])\n",
        "  train_data_labs = torch.from_numpy(labs[train_index, :])\n",
        "  \n",
        "  test_data_ins = torch.from_numpy(ins[test_index, :])\n",
        "  test_data_labs = torch.from_numpy(labs[test_index, :])\n",
        "  \n",
        "  train_set = TensorDataset(train_data_ins, train_data_labs)\n",
        "  train_set = DataLoader(train_set, batch_size = train_volume, shuffle = True)\n",
        "  \n",
        "  test_set = TensorDataset(test_data_ins, train_data_labs)\n",
        "  test_set = DataLoader(test_set, batch_size = test_volume, shuffle = True)\n",
        "\n",
        "  return train_set, test_set"
      ],
      "metadata": {
        "id": "Emkwat8DXw6h"
      },
      "execution_count": 72,
      "outputs": []
    },
    {
      "cell_type": "code",
      "source": [
        "def relative_root_mean_squared_error(pred, true):\n",
        "  size = pred.size(dim = 1)\n",
        "  error = torch.zeros(size, 1)\n",
        "  normalization_factor = torch.zeros(size, 1)\n",
        "  for index in range(size):\n",
        "    pred_element = pred[index, :]\n",
        "    true_element = true[index, :]\n",
        "    error[index, :] = torch.dot(pred_element - true_element, pred_element - true_element)\n",
        "    normalization_factor[index,:] = torch.dot(true_element, true_element)\n",
        "  return torch.sqrt(torch.div(torch.sum(error),torch.sum(normalization_factor)))"
      ],
      "metadata": {
        "id": "RKMcQdpNocrd"
      },
      "execution_count": 73,
      "outputs": []
    },
    {
      "cell_type": "code",
      "source": [
        "class inviscid_nn(nn.Module):\n",
        "  def __init__(self, hyperparameter):\n",
        "    super(inviscid_nn, self).__init__()\n",
        "\n",
        "    self.in_features = 2\n",
        "    self.num_layer = hyperparameter.suggest_int('num_layer',1,4)\n",
        "    self.layer = []\n",
        "\n",
        "    for i in range(self.num_layer):\n",
        "      self.out_features = hyperparameter.suggest_int(f'num_neurons_{i}', 10, 400)\n",
        "      self.layer.append(nn.Linear(self.in_features, self.out_features))\n",
        "      self.layer.append(nn.ReLU())\n",
        "      self.p = hyperparameter.suggest_float(f'dropout_{i}', 0.2, 0.5)\n",
        "      self.layer.append(nn.Dropout(self.p))\n",
        "      self.in_features = self.out_features\n",
        "    self.hidden_layer = nn.Sequential(*self.layer)\n",
        "    self.out_layer = nn.Sequential(\n",
        "        nn.Linear(self.in_features, 10)\n",
        "    )\n",
        "  def forward(self,x):\n",
        "    x = self.hidden_layer(x)\n",
        "    y = self.out_layer(x)\n",
        "    return y"
      ],
      "metadata": {
        "id": "kgdW2XSeTGxH"
      },
      "execution_count": 74,
      "outputs": []
    },
    {
      "cell_type": "code",
      "source": [
        "def objective_function(hyperparameter):\n",
        "  model = inviscid_nn(hyperparameter).to(device)\n",
        "\n",
        "  lr = hyperparameter.suggest_float('lr',1e-5, 1e-1, log = True)\n",
        "\n",
        "  optimizer_name = hyperparameter.suggest_categorical(\"optimizer\", [\"Adam\", \"RMSprop\", \"SGD\"])\n",
        "  optimizer = getattr(optim, optimizer_name)(model.parameters(), lr=lr)\n",
        "\n",
        "  loss_name = hyperparameter.suggest_categorical('loss_function',['MSELoss','SmoothL1Loss','L1Loss'])\n",
        "  loss_function = getattr(nn, loss_name)()\n",
        "\n",
        "  ins_path = 'drive/MyDrive/Colab Notebooks/bm_wang/data/HB2/inv/inv_input_data.csv'\n",
        "  labs_path = 'drive/MyDrive/Colab Notebooks/bm_wang/data/HB2/inv/inv_output_data.csv'\n",
        "  train_set, test_set = building_dataset(ins_path, labs_path, 100, device)\n",
        "\n",
        "  epoches = 2000\n",
        "  for epoch in range(epoches):\n",
        "    for index, (ins, lab) in enumerate(train_set):\n",
        "      model.train()\n",
        "      ins = Variable(ins).reshape(-1,2).to(torch.float32).to(device)\n",
        "      lab = Variable(lab).reshape(-1,10).to(torch.float32).to(device)\n",
        "      optimizer.zero_grad()\n",
        "      pred = model(ins)\n",
        "      rmse = loss_function(pred, lab)\n",
        "      rmse.backward()\n",
        "      optimizer.step()\n",
        "\n",
        "    model.eval()\n",
        "    with torch.no_grad():\n",
        "      for index, (ins, lab) in enumerate(test_set):\n",
        "        ins = ins.reshape(-1,2).to(torch.float32).to(device)\n",
        "        lab = lab.reshape(-1,10).to(torch.float32).to(device)\n",
        "        pred = model(ins)\n",
        "        rrmse = relative_root_mean_squared_error(pred, lab)\n",
        "\n",
        "    hyperparameter.report(rrmse, epoch)\n",
        "  return rrmse"
      ],
      "metadata": {
        "id": "ErK_wmUid6h6"
      },
      "execution_count": 75,
      "outputs": []
    },
    {
      "cell_type": "code",
      "source": [
        "device = torch.device(\"cuda:0\" if torch.cuda.is_available() else \"cpu\")\n",
        "\n",
        "study = optuna.create_study(study_name = 'inviscid_nn', direction='minimize')\n",
        "study.optimize(objective_function, n_trials = 100, timeout = 1200)\n",
        "\n",
        "pruned_trials = [t for t in study.trials if t.state == optuna.trial.TrialState.PRUNED]\n",
        "complete_trials = [t for t in study.trials if t.state == optuna.trial.TrialState.COMPLETE]\n",
        "optuna.visualization.plot_optimization_history(study)\n",
        "best_hyperparameter = study.best_params"
      ],
      "metadata": {
        "colab": {
          "base_uri": "https://localhost:8080/"
        },
        "id": "JO_zDgCyMU3R",
        "outputId": "17d96975-256a-4e36-b631-29a41f1162ce"
      },
      "execution_count": 76,
      "outputs": [
        {
          "output_type": "stream",
          "name": "stderr",
          "text": [
            "\u001b[32m[I 2023-02-09 08:56:40,123]\u001b[0m A new study created in memory with name: inviscid_nn\u001b[0m\n",
            "\u001b[32m[I 2023-02-09 08:57:09,615]\u001b[0m Trial 0 finished with value: 0.07101501524448395 and parameters: {'num_layer': 2, 'num_neurons_0': 314, 'dropout_0': 0.29967340790206703, 'num_neurons_1': 221, 'dropout_1': 0.4027370516564255, 'lr': 0.0001024228043280662, 'optimizer': 'Adam', 'loss_function': 'L1Loss'}. Best is trial 0 with value: 0.07101501524448395.\u001b[0m\n",
            "\u001b[32m[I 2023-02-09 08:57:30,700]\u001b[0m Trial 1 finished with value: 0.056983381509780884 and parameters: {'num_layer': 4, 'num_neurons_0': 214, 'dropout_0': 0.2767600719688447, 'num_neurons_1': 214, 'dropout_1': 0.21644226988225185, 'num_neurons_2': 80, 'dropout_2': 0.24714136822468083, 'num_neurons_3': 20, 'dropout_3': 0.3502820701026763, 'lr': 0.06852257091897447, 'optimizer': 'Adam', 'loss_function': 'MSELoss'}. Best is trial 1 with value: 0.056983381509780884.\u001b[0m\n",
            "\u001b[32m[I 2023-02-09 08:57:46,697]\u001b[0m Trial 2 finished with value: 0.06650948524475098 and parameters: {'num_layer': 3, 'num_neurons_0': 385, 'dropout_0': 0.36426404504920007, 'num_neurons_1': 25, 'dropout_1': 0.25898794095041006, 'num_neurons_2': 288, 'dropout_2': 0.2763350967588959, 'lr': 2.2276281903928327e-05, 'optimizer': 'RMSprop', 'loss_function': 'SmoothL1Loss'}. Best is trial 1 with value: 0.056983381509780884.\u001b[0m\n",
            "\u001b[32m[I 2023-02-09 08:57:54,433]\u001b[0m Trial 3 finished with value: 0.0889044851064682 and parameters: {'num_layer': 1, 'num_neurons_0': 330, 'dropout_0': 0.2833410322517268, 'lr': 0.0040733865835328505, 'optimizer': 'SGD', 'loss_function': 'SmoothL1Loss'}. Best is trial 1 with value: 0.056983381509780884.\u001b[0m\n",
            "\u001b[32m[I 2023-02-09 08:58:04,446]\u001b[0m Trial 4 finished with value: 0.07874173671007156 and parameters: {'num_layer': 1, 'num_neurons_0': 356, 'dropout_0': 0.3590401268144207, 'lr': 0.00015925658171519154, 'optimizer': 'SGD', 'loss_function': 'SmoothL1Loss'}. Best is trial 1 with value: 0.056983381509780884.\u001b[0m\n",
            "\u001b[32m[I 2023-02-09 08:58:14,164]\u001b[0m Trial 5 finished with value: 0.6351315975189209 and parameters: {'num_layer': 2, 'num_neurons_0': 80, 'dropout_0': 0.2111655457646605, 'num_neurons_1': 191, 'dropout_1': 0.4992043936010956, 'lr': 2.014871109107838e-05, 'optimizer': 'SGD', 'loss_function': 'MSELoss'}. Best is trial 1 with value: 0.056983381509780884.\u001b[0m\n",
            "\u001b[32m[I 2023-02-09 08:58:24,634]\u001b[0m Trial 6 finished with value: 0.5249322056770325 and parameters: {'num_layer': 3, 'num_neurons_0': 209, 'dropout_0': 0.44276813108179724, 'num_neurons_1': 64, 'dropout_1': 0.38220024162246125, 'num_neurons_2': 160, 'dropout_2': 0.40938613383485345, 'lr': 0.0001573418932178027, 'optimizer': 'SGD', 'loss_function': 'L1Loss'}. Best is trial 1 with value: 0.056983381509780884.\u001b[0m\n",
            "\u001b[32m[I 2023-02-09 08:58:48,129]\u001b[0m Trial 7 finished with value: 0.9231203198432922 and parameters: {'num_layer': 4, 'num_neurons_0': 395, 'dropout_0': 0.2427494884360283, 'num_neurons_1': 37, 'dropout_1': 0.42852800941158187, 'num_neurons_2': 386, 'dropout_2': 0.3916340089322383, 'num_neurons_3': 399, 'dropout_3': 0.3377026296283872, 'lr': 1.3542415809479193e-05, 'optimizer': 'SGD', 'loss_function': 'L1Loss'}. Best is trial 1 with value: 0.056983381509780884.\u001b[0m\n",
            "\u001b[32m[I 2023-02-09 08:59:05,819]\u001b[0m Trial 8 finished with value: 0.07987072318792343 and parameters: {'num_layer': 4, 'num_neurons_0': 45, 'dropout_0': 0.37154760297050415, 'num_neurons_1': 280, 'dropout_1': 0.4773515335402913, 'num_neurons_2': 156, 'dropout_2': 0.25652667951422203, 'num_neurons_3': 274, 'dropout_3': 0.44153618193732896, 'lr': 0.000598940292108609, 'optimizer': 'RMSprop', 'loss_function': 'MSELoss'}. Best is trial 1 with value: 0.056983381509780884.\u001b[0m\n",
            "\u001b[32m[I 2023-02-09 08:59:30,164]\u001b[0m Trial 9 finished with value: 0.05401309207081795 and parameters: {'num_layer': 4, 'num_neurons_0': 63, 'dropout_0': 0.480102777198217, 'num_neurons_1': 88, 'dropout_1': 0.3568353356024042, 'num_neurons_2': 280, 'dropout_2': 0.39102929740602804, 'num_neurons_3': 351, 'dropout_3': 0.3333242241474813, 'lr': 0.0031295908427196924, 'optimizer': 'Adam', 'loss_function': 'SmoothL1Loss'}. Best is trial 9 with value: 0.05401309207081795.\u001b[0m\n",
            "\u001b[32m[I 2023-02-09 08:59:47,379]\u001b[0m Trial 10 finished with value: 0.06023600324988365 and parameters: {'num_layer': 3, 'num_neurons_0': 110, 'dropout_0': 0.4965244213287528, 'num_neurons_1': 121, 'dropout_1': 0.31366998737295954, 'num_neurons_2': 291, 'dropout_2': 0.4984700879409749, 'lr': 0.005258325934537493, 'optimizer': 'Adam', 'loss_function': 'SmoothL1Loss'}. Best is trial 9 with value: 0.05401309207081795.\u001b[0m\n",
            "\u001b[32m[I 2023-02-09 09:00:07,855]\u001b[0m Trial 11 finished with value: 0.056594621390104294 and parameters: {'num_layer': 4, 'num_neurons_0': 173, 'dropout_0': 0.42403455302607773, 'num_neurons_1': 376, 'dropout_1': 0.22632412910999228, 'num_neurons_2': 11, 'dropout_2': 0.23357113544090202, 'num_neurons_3': 37, 'dropout_3': 0.29374876943757633, 'lr': 0.09825882801466627, 'optimizer': 'Adam', 'loss_function': 'MSELoss'}. Best is trial 9 with value: 0.05401309207081795.\u001b[0m\n",
            "\u001b[32m[I 2023-02-09 09:00:27,339]\u001b[0m Trial 12 finished with value: 0.08612388372421265 and parameters: {'num_layer': 4, 'num_neurons_0': 131, 'dropout_0': 0.4334808143274573, 'num_neurons_1': 399, 'dropout_1': 0.321849411035034, 'num_neurons_2': 13, 'dropout_2': 0.31424913657339787, 'num_neurons_3': 12, 'dropout_3': 0.2226886373193549, 'lr': 0.028005794877977885, 'optimizer': 'Adam', 'loss_function': 'MSELoss'}. Best is trial 9 with value: 0.05401309207081795.\u001b[0m\n",
            "\u001b[32m[I 2023-02-09 09:00:55,102]\u001b[0m Trial 13 finished with value: 0.08405566960573196 and parameters: {'num_layer': 4, 'num_neurons_0': 19, 'dropout_0': 0.49721319062000463, 'num_neurons_1': 387, 'dropout_1': 0.276815247019168, 'num_neurons_2': 257, 'dropout_2': 0.3451748502862119, 'num_neurons_3': 174, 'dropout_3': 0.29780941972235536, 'lr': 0.07333269877790076, 'optimizer': 'Adam', 'loss_function': 'MSELoss'}. Best is trial 9 with value: 0.05401309207081795.\u001b[0m\n",
            "\u001b[32m[I 2023-02-09 09:01:25,041]\u001b[0m Trial 14 finished with value: 0.05462038516998291 and parameters: {'num_layer': 3, 'num_neurons_0': 264, 'dropout_0': 0.4230296671262441, 'num_neurons_1': 312, 'dropout_1': 0.3538487920111555, 'num_neurons_2': 367, 'dropout_2': 0.20722761513958823, 'lr': 0.01610797335493283, 'optimizer': 'Adam', 'loss_function': 'SmoothL1Loss'}. Best is trial 9 with value: 0.05401309207081795.\u001b[0m\n",
            "\u001b[32m[I 2023-02-09 09:01:54,813]\u001b[0m Trial 15 finished with value: 0.07728824764490128 and parameters: {'num_layer': 3, 'num_neurons_0': 247, 'dropout_0': 0.46295227331768873, 'num_neurons_1': 296, 'dropout_1': 0.35576739649387135, 'num_neurons_2': 389, 'dropout_2': 0.20783743742196462, 'lr': 0.008319312126049626, 'optimizer': 'Adam', 'loss_function': 'SmoothL1Loss'}. Best is trial 9 with value: 0.05401309207081795.\u001b[0m\n",
            "\u001b[32m[I 2023-02-09 09:02:08,766]\u001b[0m Trial 16 finished with value: 0.06285099685192108 and parameters: {'num_layer': 2, 'num_neurons_0': 274, 'dropout_0': 0.40165438493559547, 'num_neurons_1': 124, 'dropout_1': 0.3391446392921506, 'lr': 0.0019687062660643287, 'optimizer': 'Adam', 'loss_function': 'SmoothL1Loss'}. Best is trial 9 with value: 0.05401309207081795.\u001b[0m\n",
            "\u001b[32m[I 2023-02-09 09:02:28,740]\u001b[0m Trial 17 finished with value: 0.08111322671175003 and parameters: {'num_layer': 3, 'num_neurons_0': 156, 'dropout_0': 0.46271155284612875, 'num_neurons_1': 305, 'dropout_1': 0.3569848134929888, 'num_neurons_2': 338, 'dropout_2': 0.20085669048202887, 'lr': 0.012251109498350288, 'optimizer': 'RMSprop', 'loss_function': 'SmoothL1Loss'}. Best is trial 9 with value: 0.05401309207081795.\u001b[0m\n",
            "\u001b[32m[I 2023-02-09 09:02:49,150]\u001b[0m Trial 18 finished with value: 0.05078793317079544 and parameters: {'num_layer': 3, 'num_neurons_0': 286, 'dropout_0': 0.39798621561682307, 'num_neurons_1': 135, 'dropout_1': 0.2971665260266433, 'num_neurons_2': 226, 'dropout_2': 0.2957148255504451, 'lr': 0.018903888092958506, 'optimizer': 'Adam', 'loss_function': 'SmoothL1Loss'}. Best is trial 18 with value: 0.05078793317079544.\u001b[0m\n",
            "\u001b[32m[I 2023-02-09 09:03:03,353]\u001b[0m Trial 19 finished with value: 0.07475409656763077 and parameters: {'num_layer': 2, 'num_neurons_0': 302, 'dropout_0': 0.3912822643470433, 'num_neurons_1': 107, 'dropout_1': 0.2933588371791595, 'lr': 0.002882650638481221, 'optimizer': 'Adam', 'loss_function': 'SmoothL1Loss'}. Best is trial 18 with value: 0.05078793317079544.\u001b[0m\n",
            "\u001b[32m[I 2023-02-09 09:03:22,223]\u001b[0m Trial 20 finished with value: 0.06042373180389404 and parameters: {'num_layer': 4, 'num_neurons_0': 73, 'dropout_0': 0.3207324408672131, 'num_neurons_1': 151, 'dropout_1': 0.29441844472731593, 'num_neurons_2': 197, 'dropout_2': 0.30374143218526445, 'num_neurons_3': 389, 'dropout_3': 0.48086430580087736, 'lr': 0.0009185229790705675, 'optimizer': 'RMSprop', 'loss_function': 'SmoothL1Loss'}. Best is trial 18 with value: 0.05078793317079544.\u001b[0m\n",
            "\u001b[32m[I 2023-02-09 09:03:38,338]\u001b[0m Trial 21 finished with value: 0.07112740725278854 and parameters: {'num_layer': 3, 'num_neurons_0': 242, 'dropout_0': 0.4042195976849931, 'num_neurons_1': 91, 'dropout_1': 0.33197858607987596, 'num_neurons_2': 241, 'dropout_2': 0.27872598593096987, 'lr': 0.016586417315158076, 'optimizer': 'Adam', 'loss_function': 'SmoothL1Loss'}. Best is trial 18 with value: 0.05078793317079544.\u001b[0m\n",
            "\u001b[32m[I 2023-02-09 09:04:01,115]\u001b[0m Trial 22 finished with value: 0.06324828416109085 and parameters: {'num_layer': 3, 'num_neurons_0': 264, 'dropout_0': 0.4621892049914346, 'num_neurons_1': 149, 'dropout_1': 0.3754606887320123, 'num_neurons_2': 332, 'dropout_2': 0.34692419125321294, 'lr': 0.021233896521419125, 'optimizer': 'Adam', 'loss_function': 'SmoothL1Loss'}. Best is trial 18 with value: 0.05078793317079544.\u001b[0m\n",
            "\u001b[32m[I 2023-02-09 09:04:21,073]\u001b[0m Trial 23 finished with value: 0.08199755847454071 and parameters: {'num_layer': 3, 'num_neurons_0': 179, 'dropout_0': 0.41390385575630556, 'num_neurons_1': 176, 'dropout_1': 0.3184814408256946, 'num_neurons_2': 324, 'dropout_2': 0.22529976796938245, 'lr': 0.007456596472266251, 'optimizer': 'Adam', 'loss_function': 'SmoothL1Loss'}. Best is trial 18 with value: 0.05078793317079544.\u001b[0m\n",
            "\u001b[32m[I 2023-02-09 09:04:39,667]\u001b[0m Trial 24 finished with value: 0.07893332093954086 and parameters: {'num_layer': 2, 'num_neurons_0': 285, 'dropout_0': 0.3321030825696843, 'num_neurons_1': 260, 'dropout_1': 0.25965679449477796, 'lr': 0.036945499292330874, 'optimizer': 'Adam', 'loss_function': 'SmoothL1Loss'}. Best is trial 18 with value: 0.05078793317079544.\u001b[0m\n",
            "\u001b[32m[I 2023-02-09 09:05:10,114]\u001b[0m Trial 25 finished with value: 0.07713513821363449 and parameters: {'num_layer': 3, 'num_neurons_0': 337, 'dropout_0': 0.38332369796212334, 'num_neurons_1': 334, 'dropout_1': 0.3504680367010752, 'num_neurons_2': 217, 'dropout_2': 0.25995507186296957, 'lr': 0.011274089452204813, 'optimizer': 'Adam', 'loss_function': 'L1Loss'}. Best is trial 18 with value: 0.05078793317079544.\u001b[0m\n",
            "\u001b[32m[I 2023-02-09 09:05:34,518]\u001b[0m Trial 26 finished with value: 0.0597083605825901 and parameters: {'num_layer': 4, 'num_neurons_0': 235, 'dropout_0': 0.43608583390579486, 'num_neurons_1': 76, 'dropout_1': 0.40368386891810626, 'num_neurons_2': 286, 'dropout_2': 0.2962364432972367, 'num_neurons_3': 279, 'dropout_3': 0.40857659333559804, 'lr': 0.031018979764966738, 'optimizer': 'Adam', 'loss_function': 'SmoothL1Loss'}. Best is trial 18 with value: 0.05078793317079544.\u001b[0m\n",
            "\u001b[32m[I 2023-02-09 09:06:01,558]\u001b[0m Trial 27 finished with value: 0.0812963917851448 and parameters: {'num_layer': 3, 'num_neurons_0': 297, 'dropout_0': 0.3848363916546565, 'num_neurons_1': 235, 'dropout_1': 0.3094549298422583, 'num_neurons_2': 358, 'dropout_2': 0.2269064971664504, 'lr': 0.0020439643154076433, 'optimizer': 'Adam', 'loss_function': 'SmoothL1Loss'}. Best is trial 18 with value: 0.05078793317079544.\u001b[0m\n",
            "\u001b[32m[I 2023-02-09 09:06:20,235]\u001b[0m Trial 28 finished with value: 0.06459717452526093 and parameters: {'num_layer': 2, 'num_neurons_0': 355, 'dropout_0': 0.4145158537391639, 'num_neurons_1': 339, 'dropout_1': 0.3407201037907842, 'lr': 0.005641407901265931, 'optimizer': 'RMSprop', 'loss_function': 'SmoothL1Loss'}. Best is trial 18 with value: 0.05078793317079544.\u001b[0m\n",
            "\u001b[32m[I 2023-02-09 09:06:30,354]\u001b[0m Trial 29 finished with value: 0.05318496748805046 and parameters: {'num_layer': 1, 'num_neurons_0': 317, 'dropout_0': 0.34344534376671726, 'lr': 0.014814615251361882, 'optimizer': 'Adam', 'loss_function': 'L1Loss'}. Best is trial 18 with value: 0.05078793317079544.\u001b[0m\n",
            "\u001b[32m[I 2023-02-09 09:06:40,539]\u001b[0m Trial 30 finished with value: 0.057849589735269547 and parameters: {'num_layer': 1, 'num_neurons_0': 321, 'dropout_0': 0.3283901022737945, 'lr': 0.04551757632355042, 'optimizer': 'Adam', 'loss_function': 'L1Loss'}. Best is trial 18 with value: 0.05078793317079544.\u001b[0m\n",
            "\u001b[32m[I 2023-02-09 09:06:49,194]\u001b[0m Trial 31 finished with value: 0.05721058323979378 and parameters: {'num_layer': 1, 'num_neurons_0': 261, 'dropout_0': 0.3463237530085661, 'lr': 0.01524093284111702, 'optimizer': 'Adam', 'loss_function': 'L1Loss'}. Best is trial 18 with value: 0.05078793317079544.\u001b[0m\n",
            "\u001b[32m[I 2023-02-09 09:07:00,920]\u001b[0m Trial 32 finished with value: 0.056987982243299484 and parameters: {'num_layer': 2, 'num_neurons_0': 222, 'dropout_0': 0.3761069469510538, 'num_neurons_1': 59, 'dropout_1': 0.3717503162890132, 'lr': 0.01996008324826171, 'optimizer': 'Adam', 'loss_function': 'L1Loss'}. Best is trial 18 with value: 0.05078793317079544.\u001b[0m\n",
            "\u001b[32m[I 2023-02-09 09:07:11,059]\u001b[0m Trial 33 finished with value: 0.05225047096610069 and parameters: {'num_layer': 1, 'num_neurons_0': 306, 'dropout_0': 0.3518440461006298, 'lr': 0.009857239112175767, 'optimizer': 'Adam', 'loss_function': 'L1Loss'}. Best is trial 18 with value: 0.05078793317079544.\u001b[0m\n",
            "\u001b[32m[I 2023-02-09 09:07:21,326]\u001b[0m Trial 34 finished with value: 0.06565114110708237 and parameters: {'num_layer': 1, 'num_neurons_0': 368, 'dropout_0': 0.30510036184664757, 'lr': 0.009499963447536048, 'optimizer': 'Adam', 'loss_function': 'L1Loss'}. Best is trial 18 with value: 0.05078793317079544.\u001b[0m\n",
            "\u001b[32m[I 2023-02-09 09:07:29,944]\u001b[0m Trial 35 finished with value: 0.0668407529592514 and parameters: {'num_layer': 1, 'num_neurons_0': 310, 'dropout_0': 0.36386286262858164, 'lr': 0.004378473911926104, 'optimizer': 'Adam', 'loss_function': 'L1Loss'}. Best is trial 18 with value: 0.05078793317079544.\u001b[0m\n",
            "\u001b[32m[I 2023-02-09 09:07:39,350]\u001b[0m Trial 36 finished with value: 0.056052494794130325 and parameters: {'num_layer': 1, 'num_neurons_0': 341, 'dropout_0': 0.3447402298429363, 'lr': 0.03886859181337428, 'optimizer': 'SGD', 'loss_function': 'L1Loss'}. Best is trial 18 with value: 0.05078793317079544.\u001b[0m\n",
            "\u001b[32m[I 2023-02-09 09:07:50,018]\u001b[0m Trial 37 finished with value: 0.05887509882450104 and parameters: {'num_layer': 1, 'num_neurons_0': 375, 'dropout_0': 0.3537588226060769, 'lr': 0.0074880681083720115, 'optimizer': 'Adam', 'loss_function': 'L1Loss'}. Best is trial 18 with value: 0.05078793317079544.\u001b[0m\n",
            "\u001b[32m[I 2023-02-09 09:07:59,001]\u001b[0m Trial 38 finished with value: 0.0729304850101471 and parameters: {'num_layer': 1, 'num_neurons_0': 185, 'dropout_0': 0.2982124173739816, 'lr': 0.051003239329223855, 'optimizer': 'SGD', 'loss_function': 'L1Loss'}. Best is trial 18 with value: 0.05078793317079544.\u001b[0m\n",
            "\u001b[32m[I 2023-02-09 09:08:09,598]\u001b[0m Trial 39 finished with value: 0.0774647444486618 and parameters: {'num_layer': 2, 'num_neurons_0': 286, 'dropout_0': 0.3589413101060232, 'num_neurons_1': 10, 'dropout_1': 0.41233637637716075, 'lr': 0.026578147921582966, 'optimizer': 'RMSprop', 'loss_function': 'L1Loss'}. Best is trial 18 with value: 0.05078793317079544.\u001b[0m\n",
            "\u001b[32m[I 2023-02-09 09:08:25,161]\u001b[0m Trial 40 finished with value: 0.06205785274505615 and parameters: {'num_layer': 2, 'num_neurons_0': 318, 'dropout_0': 0.37257711641263713, 'num_neurons_1': 148, 'dropout_1': 0.23464970772535132, 'lr': 0.0041036678084592024, 'optimizer': 'Adam', 'loss_function': 'L1Loss'}. Best is trial 18 with value: 0.05078793317079544.\u001b[0m\n",
            "\u001b[32m[I 2023-02-09 09:08:46,182]\u001b[0m Trial 41 finished with value: 0.062316812574863434 and parameters: {'num_layer': 3, 'num_neurons_0': 256, 'dropout_0': 0.40719371244505037, 'num_neurons_1': 235, 'dropout_1': 0.30055374516131006, 'num_neurons_2': 166, 'dropout_2': 0.39192042897335716, 'lr': 0.014278027227873021, 'optimizer': 'Adam', 'loss_function': 'SmoothL1Loss'}. Best is trial 18 with value: 0.05078793317079544.\u001b[0m\n",
            "\u001b[32m[I 2023-02-09 09:08:55,119]\u001b[0m Trial 42 finished with value: 0.0774187445640564 and parameters: {'num_layer': 1, 'num_neurons_0': 216, 'dropout_0': 0.393892430923969, 'lr': 0.02234681408599533, 'optimizer': 'Adam', 'loss_function': 'SmoothL1Loss'}. Best is trial 18 with value: 0.05078793317079544.\u001b[0m\n",
            "\u001b[32m[I 2023-02-09 09:09:24,731]\u001b[0m Trial 43 finished with value: 0.059841763228178024 and parameters: {'num_layer': 4, 'num_neurons_0': 293, 'dropout_0': 0.4502389597978809, 'num_neurons_1': 180, 'dropout_1': 0.32388201655778387, 'num_neurons_2': 253, 'dropout_2': 0.3159144477140483, 'num_neurons_3': 303, 'dropout_3': 0.21777837592853344, 'lr': 0.01091387935038688, 'optimizer': 'Adam', 'loss_function': 'MSELoss'}. Best is trial 18 with value: 0.05078793317079544.\u001b[0m\n",
            "\u001b[32m[I 2023-02-09 09:09:39,777]\u001b[0m Trial 44 finished with value: 0.39355865120887756 and parameters: {'num_layer': 3, 'num_neurons_0': 353, 'dropout_0': 0.42836227761956996, 'num_neurons_1': 207, 'dropout_1': 0.27784033373188916, 'num_neurons_2': 100, 'dropout_2': 0.2737998499948137, 'lr': 0.006787294275849457, 'optimizer': 'SGD', 'loss_function': 'SmoothL1Loss'}. Best is trial 18 with value: 0.05078793317079544.\u001b[0m\n",
            "\u001b[32m[I 2023-02-09 09:10:01,840]\u001b[0m Trial 45 finished with value: 0.0444953553378582 and parameters: {'num_layer': 4, 'num_neurons_0': 328, 'dropout_0': 0.37066518803120424, 'num_neurons_1': 97, 'dropout_1': 0.3842598609704654, 'num_neurons_2': 204, 'dropout_2': 0.20052458000286386, 'num_neurons_3': 170, 'dropout_3': 0.40656544653553317, 'lr': 0.0031910085055802907, 'optimizer': 'Adam', 'loss_function': 'L1Loss'}. Best is trial 45 with value: 0.0444953553378582.\u001b[0m\n",
            "\u001b[32m[I 2023-02-09 09:10:20,831]\u001b[0m Trial 46 finished with value: 0.08138728886842728 and parameters: {'num_layer': 4, 'num_neurons_0': 383, 'dropout_0': 0.3409601915789981, 'num_neurons_1': 46, 'dropout_1': 0.38380189200611436, 'num_neurons_2': 199, 'dropout_2': 0.3280654020033951, 'num_neurons_3': 167, 'dropout_3': 0.38572157046183153, 'lr': 0.002632932374187315, 'optimizer': 'Adam', 'loss_function': 'L1Loss'}. Best is trial 45 with value: 0.0444953553378582.\u001b[0m\n",
            "\u001b[32m[I 2023-02-09 09:10:41,437]\u001b[0m Trial 47 finished with value: 0.06672275066375732 and parameters: {'num_layer': 4, 'num_neurons_0': 400, 'dropout_0': 0.3677686221605416, 'num_neurons_1': 88, 'dropout_1': 0.43399364879663516, 'num_neurons_2': 221, 'dropout_2': 0.36829124097521687, 'num_neurons_3': 95, 'dropout_3': 0.49396620854852513, 'lr': 0.001370393743955511, 'optimizer': 'Adam', 'loss_function': 'L1Loss'}. Best is trial 45 with value: 0.0444953553378582.\u001b[0m\n",
            "\u001b[32m[I 2023-02-09 09:10:59,313]\u001b[0m Trial 48 finished with value: 0.048703521490097046 and parameters: {'num_layer': 4, 'num_neurons_0': 99, 'dropout_0': 0.35851490338204733, 'num_neurons_1': 126, 'dropout_1': 0.2102895146827875, 'num_neurons_2': 133, 'dropout_2': 0.24244324532213835, 'num_neurons_3': 218, 'dropout_3': 0.4183430257637081, 'lr': 0.0005112142457719876, 'optimizer': 'Adam', 'loss_function': 'L1Loss'}. Best is trial 45 with value: 0.0444953553378582.\u001b[0m\n",
            "\u001b[32m[I 2023-02-09 09:11:13,316]\u001b[0m Trial 49 finished with value: 0.3599224388599396 and parameters: {'num_layer': 4, 'num_neurons_0': 99, 'dropout_0': 0.3571018973025232, 'num_neurons_1': 113, 'dropout_1': 0.21594987643192137, 'num_neurons_2': 118, 'dropout_2': 0.24124247291252873, 'num_neurons_3': 193, 'dropout_3': 0.4363855898026892, 'lr': 0.00032678593353674954, 'optimizer': 'SGD', 'loss_function': 'L1Loss'}. Best is trial 45 with value: 0.0444953553378582.\u001b[0m\n",
            "\u001b[32m[I 2023-02-09 09:11:31,998]\u001b[0m Trial 50 finished with value: 0.07846543192863464 and parameters: {'num_layer': 4, 'num_neurons_0': 332, 'dropout_0': 0.37769468967860326, 'num_neurons_1': 142, 'dropout_1': 0.2381064765486555, 'num_neurons_2': 49, 'dropout_2': 0.24820025143040333, 'num_neurons_3': 127, 'dropout_3': 0.4032880943408128, 'lr': 0.004940751604571248, 'optimizer': 'Adam', 'loss_function': 'L1Loss'}. Best is trial 45 with value: 0.0444953553378582.\u001b[0m\n",
            "\u001b[32m[I 2023-02-09 09:11:50,428]\u001b[0m Trial 51 finished with value: 0.05862468481063843 and parameters: {'num_layer': 4, 'num_neurons_0': 42, 'dropout_0': 0.39213929520233143, 'num_neurons_1': 167, 'dropout_1': 0.21290601532142403, 'num_neurons_2': 131, 'dropout_2': 0.22249897563319784, 'num_neurons_3': 237, 'dropout_3': 0.3491486577803337, 'lr': 0.0032072654290878203, 'optimizer': 'Adam', 'loss_function': 'L1Loss'}. Best is trial 45 with value: 0.0444953553378582.\u001b[0m\n",
            "\u001b[32m[I 2023-02-09 09:12:12,691]\u001b[0m Trial 52 finished with value: 0.08064094930887222 and parameters: {'num_layer': 4, 'num_neurons_0': 63, 'dropout_0': 0.3649993343731047, 'num_neurons_1': 96, 'dropout_1': 0.20524709811390193, 'num_neurons_2': 181, 'dropout_2': 0.2640012140439585, 'num_neurons_3': 333, 'dropout_3': 0.3809076907659538, 'lr': 0.0012044579860084209, 'optimizer': 'Adam', 'loss_function': 'L1Loss'}. Best is trial 45 with value: 0.0444953553378582.\u001b[0m\n",
            "\u001b[32m[I 2023-02-09 09:12:30,415]\u001b[0m Trial 53 finished with value: 0.06581812351942062 and parameters: {'num_layer': 4, 'num_neurons_0': 11, 'dropout_0': 0.3346183129692695, 'num_neurons_1': 64, 'dropout_1': 0.20332470868507868, 'num_neurons_2': 282, 'dropout_2': 0.287380637418752, 'num_neurons_3': 238, 'dropout_3': 0.4428705331841435, 'lr': 0.000584066272548255, 'optimizer': 'Adam', 'loss_function': 'MSELoss'}. Best is trial 45 with value: 0.0444953553378582.\u001b[0m\n",
            "\u001b[32m[I 2023-02-09 09:12:46,910]\u001b[0m Trial 54 finished with value: 0.05130212381482124 and parameters: {'num_layer': 4, 'num_neurons_0': 134, 'dropout_0': 0.4806479300417913, 'num_neurons_1': 130, 'dropout_1': 0.2680327953693884, 'num_neurons_2': 235, 'dropout_2': 0.24604301069210374, 'num_neurons_3': 123, 'dropout_3': 0.4604045822517052, 'lr': 0.0034590769366362336, 'optimizer': 'RMSprop', 'loss_function': 'L1Loss'}. Best is trial 45 with value: 0.0444953553378582.\u001b[0m\n",
            "\u001b[32m[I 2023-02-09 09:13:02,204]\u001b[0m Trial 55 finished with value: 0.06751354783773422 and parameters: {'num_layer': 4, 'num_neurons_0': 137, 'dropout_0': 0.34874709507107526, 'num_neurons_1': 195, 'dropout_1': 0.24873242946857316, 'num_neurons_2': 78, 'dropout_2': 0.24596890447770503, 'num_neurons_3': 120, 'dropout_3': 0.4634089890520068, 'lr': 0.009070457394837772, 'optimizer': 'RMSprop', 'loss_function': 'L1Loss'}. Best is trial 45 with value: 0.0444953553378582.\u001b[0m\n",
            "\u001b[32m[I 2023-02-09 09:13:16,812]\u001b[0m Trial 56 finished with value: 0.06784455478191376 and parameters: {'num_layer': 4, 'num_neurons_0': 122, 'dropout_0': 0.31797879005901175, 'num_neurons_1': 125, 'dropout_1': 0.26484351281116175, 'num_neurons_2': 143, 'dropout_2': 0.2655380846636353, 'num_neurons_3': 80, 'dropout_3': 0.4555791442732508, 'lr': 0.005644733248812576, 'optimizer': 'RMSprop', 'loss_function': 'L1Loss'}. Best is trial 45 with value: 0.0444953553378582.\u001b[0m\n",
            "\u001b[32m[I 2023-02-09 09:13:33,467]\u001b[0m Trial 57 finished with value: 0.06967106461524963 and parameters: {'num_layer': 4, 'num_neurons_0': 97, 'dropout_0': 0.4904121430277442, 'num_neurons_1': 132, 'dropout_1': 0.24683848383902543, 'num_neurons_2': 238, 'dropout_2': 0.23945049531293017, 'num_neurons_3': 153, 'dropout_3': 0.49449210562424417, 'lr': 0.003910257782803107, 'optimizer': 'RMSprop', 'loss_function': 'L1Loss'}. Best is trial 45 with value: 0.0444953553378582.\u001b[0m\n",
            "\u001b[32m[I 2023-02-09 09:13:42,756]\u001b[0m Trial 58 finished with value: 0.08752606064081192 and parameters: {'num_layer': 1, 'num_neurons_0': 196, 'dropout_0': 0.39846187634246266, 'lr': 0.0020376493689928357, 'optimizer': 'RMSprop', 'loss_function': 'L1Loss'}. Best is trial 45 with value: 0.0444953553378582.\u001b[0m\n",
            "\u001b[32m[I 2023-02-09 09:13:54,084]\u001b[0m Trial 59 finished with value: 0.06941067427396774 and parameters: {'num_layer': 3, 'num_neurons_0': 149, 'dropout_0': 0.3862970725527114, 'num_neurons_1': 25, 'dropout_1': 0.23110085180020407, 'num_neurons_2': 169, 'dropout_2': 0.28265028114217405, 'lr': 0.013524472359593831, 'optimizer': 'RMSprop', 'loss_function': 'L1Loss'}. Best is trial 45 with value: 0.0444953553378582.\u001b[0m\n",
            "\u001b[32m[I 2023-02-09 09:14:12,889]\u001b[0m Trial 60 finished with value: 0.0746103897690773 and parameters: {'num_layer': 4, 'num_neurons_0': 276, 'dropout_0': 0.4185845760111213, 'num_neurons_1': 165, 'dropout_1': 0.27820679501490964, 'num_neurons_2': 192, 'dropout_2': 0.21536237164955063, 'num_neurons_3': 217, 'dropout_3': 0.4201141848247853, 'lr': 0.0073721571812574325, 'optimizer': 'RMSprop', 'loss_function': 'L1Loss'}. Best is trial 45 with value: 0.0444953553378582.\u001b[0m\n",
            "\u001b[32m[I 2023-02-09 09:14:35,649]\u001b[0m Trial 61 finished with value: 0.06895312666893005 and parameters: {'num_layer': 4, 'num_neurons_0': 34, 'dropout_0': 0.48282076972630794, 'num_neurons_1': 76, 'dropout_1': 0.2221673765039175, 'num_neurons_2': 272, 'dropout_2': 0.20054234543700195, 'num_neurons_3': 358, 'dropout_3': 0.42334846451251407, 'lr': 0.002727057336393397, 'optimizer': 'Adam', 'loss_function': 'MSELoss'}. Best is trial 45 with value: 0.0444953553378582.\u001b[0m\n",
            "\u001b[32m[I 2023-02-09 09:14:54,965]\u001b[0m Trial 62 finished with value: 0.04384496062994003 and parameters: {'num_layer': 4, 'num_neurons_0': 78, 'dropout_0': 0.4725577622755316, 'num_neurons_1': 104, 'dropout_1': 0.3059468601077729, 'num_neurons_2': 309, 'dropout_2': 0.23268384125087044, 'num_neurons_3': 129, 'dropout_3': 0.46669618844293387, 'lr': 0.00356311057099303, 'optimizer': 'Adam', 'loss_function': 'L1Loss'}. Best is trial 62 with value: 0.04384496062994003.\u001b[0m\n",
            "\u001b[32m[I 2023-02-09 09:15:13,180]\u001b[0m Trial 63 finished with value: 0.07433976233005524 and parameters: {'num_layer': 4, 'num_neurons_0': 83, 'dropout_0': 0.4707250564060957, 'num_neurons_1': 108, 'dropout_1': 0.2876537062023806, 'num_neurons_2': 225, 'dropout_2': 0.23356391361906545, 'num_neurons_3': 139, 'dropout_3': 0.4620881736089644, 'lr': 0.010907276613014131, 'optimizer': 'Adam', 'loss_function': 'L1Loss'}. Best is trial 62 with value: 0.04384496062994003.\u001b[0m\n",
            "\u001b[32m[I 2023-02-09 09:15:29,886]\u001b[0m Trial 64 finished with value: 0.04881266504526138 and parameters: {'num_layer': 4, 'num_neurons_0': 61, 'dropout_0': 0.44762231540674013, 'num_neurons_1': 48, 'dropout_1': 0.3048654085663346, 'num_neurons_2': 300, 'dropout_2': 0.2572687465028504, 'num_neurons_3': 82, 'dropout_3': 0.4746857555933061, 'lr': 0.0056781972124866, 'optimizer': 'Adam', 'loss_function': 'L1Loss'}. Best is trial 62 with value: 0.04384496062994003.\u001b[0m\n",
            "\u001b[32m[I 2023-02-09 09:15:46,491]\u001b[0m Trial 65 finished with value: 0.07417650520801544 and parameters: {'num_layer': 4, 'num_neurons_0': 60, 'dropout_0': 0.44459455432694256, 'num_neurons_1': 50, 'dropout_1': 0.30878705983036886, 'num_neurons_2': 292, 'dropout_2': 0.24903881402201952, 'num_neurons_3': 74, 'dropout_3': 0.47365789600819247, 'lr': 0.0036132391079618507, 'optimizer': 'Adam', 'loss_function': 'L1Loss'}. Best is trial 62 with value: 0.04384496062994003.\u001b[0m\n",
            "\u001b[32m[I 2023-02-09 09:16:07,187]\u001b[0m Trial 66 finished with value: 0.06380728632211685 and parameters: {'num_layer': 4, 'num_neurons_0': 92, 'dropout_0': 0.49940349935355904, 'num_neurons_1': 101, 'dropout_1': 0.2644086484807515, 'num_neurons_2': 309, 'dropout_2': 0.2172459174637255, 'num_neurons_3': 105, 'dropout_3': 0.4707662458304422, 'lr': 0.005740950414690707, 'optimizer': 'Adam', 'loss_function': 'L1Loss'}. Best is trial 62 with value: 0.04384496062994003.\u001b[0m\n",
            "\u001b[32m[I 2023-02-09 09:16:22,367]\u001b[0m Trial 67 finished with value: 0.048270728439092636 and parameters: {'num_layer': 4, 'num_neurons_0': 114, 'dropout_0': 0.4558882267529082, 'num_neurons_1': 34, 'dropout_1': 0.29872030682684436, 'num_neurons_2': 263, 'dropout_2': 0.25643873626262825, 'num_neurons_3': 60, 'dropout_3': 0.4491534228731188, 'lr': 0.0016135771196312766, 'optimizer': 'Adam', 'loss_function': 'L1Loss'}. Best is trial 62 with value: 0.04384496062994003.\u001b[0m\n",
            "\u001b[32m[I 2023-02-09 09:16:37,415]\u001b[0m Trial 68 finished with value: 0.05973983183503151 and parameters: {'num_layer': 4, 'num_neurons_0': 114, 'dropout_0': 0.4584685021478024, 'num_neurons_1': 30, 'dropout_1': 0.301604928699995, 'num_neurons_2': 261, 'dropout_2': 0.25184092726320534, 'num_neurons_3': 57, 'dropout_3': 0.4434756704372997, 'lr': 0.001453780420604708, 'optimizer': 'Adam', 'loss_function': 'L1Loss'}. Best is trial 62 with value: 0.04384496062994003.\u001b[0m\n",
            "\u001b[32m[I 2023-02-09 09:16:57,695]\u001b[0m Trial 69 finished with value: 0.08487822115421295 and parameters: {'num_layer': 4, 'num_neurons_0': 158, 'dropout_0': 0.47816550165536714, 'num_neurons_1': 11, 'dropout_1': 0.28648317479752006, 'num_neurons_2': 305, 'dropout_2': 0.2350916447462041, 'num_neurons_3': 50, 'dropout_3': 0.45622765419518535, 'lr': 0.0023947991351207405, 'optimizer': 'Adam', 'loss_function': 'L1Loss'}. Best is trial 62 with value: 0.04384496062994003.\u001b[0m\n"
          ]
        }
      ]
    },
    {
      "cell_type": "code",
      "source": [
        "class inviscid_nn(nn.Module):\n",
        "  def __init__(self, hyperparameter):\n",
        "    super(inviscid_nn, self).__init__()\n",
        "    \n",
        "    self.in_features = 2\n",
        "    self.num_layer = hyperparameter['num_layer']\n",
        "    self.layer = []\n",
        "\n",
        "    for i in range(self.num_layer):\n",
        "      self.out_features = hyperparameter[f'num_neurons_{i}']\n",
        "      self.layer.append(nn.Linear(self.in_features, self.out_features))\n",
        "      self.layer.append(nn.ReLU())\n",
        "      self.p = hyperparameter[f'dropout_{i}']\n",
        "      self.layer.append(nn.Dropout(self.p))\n",
        "      self.in_features = self.out_features\n",
        "    self.hidden_layer = nn.Sequential(*self.layer)\n",
        "    self.out_layer = nn.Sequential(\n",
        "        nn.Linear(self.in_features, 10)\n",
        "    )\n",
        "  def forward(self,x):\n",
        "    x = self.hidden_layer(x)\n",
        "    y = self.out_layer(x)\n",
        "    return y"
      ],
      "metadata": {
        "id": "ONCqLiQNL7VN"
      },
      "execution_count": 77,
      "outputs": []
    },
    {
      "cell_type": "code",
      "source": [
        "def train_process(model, hyperparameter):\n",
        "  \n",
        "  # model = inviscid_nn(study.best_params).to(device)\n",
        "  train_loss_history = []\n",
        "  test_loss_history = []\n",
        "  \n",
        "  lr = hyperparameter['lr']\n",
        "  optimizer_name = hyperparameter['optimizer']\n",
        "  optimizer = getattr(optim, optimizer_name)(model.parameters(), lr = lr)\n",
        "  loss_name = hyperparameter['loss_function']\n",
        "  loss_function = getattr(nn, loss_name)()\n",
        "\n",
        "  ins_path = 'drive/MyDrive/Colab Notebooks/bm_wang/data/HB2/inv/inv_input_data.csv'\n",
        "  labs_path = 'drive/MyDrive/Colab Notebooks/bm_wang/data/HB2/inv/inv_output_data.csv'\n",
        "\n",
        "  train_set, test_set = building_dataset(ins_path, labs_path, 100, device)\n",
        "\n",
        "  epoches = 2000\n",
        "  for epoch in trange(epoches):\n",
        "    for index, (ins, lab) in enumerate(train_set):\n",
        "      model.train()\n",
        "      ins = Variable(ins).reshape(-1,2).to(torch.float32).to(device)\n",
        "      lab = Variable(lab).reshape(-1,10).to(torch.float32).to(device)\n",
        "      optimizer.zero_grad()\n",
        "      pred = model(ins)\n",
        "      rmse = loss_function(pred, lab)\n",
        "      train_loss_history.append(rmse.item())\n",
        "      rmse.backward()\n",
        "      optimizer.step()\n",
        "      \n",
        "    model.eval()\n",
        "    with torch.no_grad():\n",
        "      for index, (ins, lab) in enumerate(test_set):\n",
        "        ins = ins.reshape(-1,2).to(torch.float32).to(device)\n",
        "        lab = lab.reshape(-1,10).to(torch.float32).to(device)\n",
        "        pred = model(ins)\n",
        "        rrmse = relative_root_mean_squared_error(pred, lab)\n",
        "        test_loss_history.append(rrmse.item())\n",
        "  plt.figure(1)\n",
        "  plt.plot(train_loss_history)\n",
        "  plt.title('loss of train set')\n",
        "  print(f'\\n无粘网络训练损失函数收敛于{train_loss_history[-1]}')\n",
        "  plt.figure(2)\n",
        "  plt.plot(test_loss_history,'g')\n",
        "  plt.title('loss of test set')\n",
        "  print(f'\\n无粘网络测试集损失函数收敛于{test_loss_history[-1]}')\n",
        "  return model"
      ],
      "metadata": {
        "id": "zL52enUSRLf-"
      },
      "execution_count": 78,
      "outputs": []
    },
    {
      "cell_type": "code",
      "source": [
        "inviscid_nn = train_process(inviscid_nn(study.best_params).to(device), study.best_params)"
      ],
      "metadata": {
        "colab": {
          "base_uri": "https://localhost:8080/",
          "height": 637
        },
        "id": "Z6opqSWhTjNO",
        "outputId": "1bdf1d3c-580d-4d77-a9b1-f6fba6ab25cb"
      },
      "execution_count": 79,
      "outputs": [
        {
          "output_type": "stream",
          "name": "stderr",
          "text": [
            "100%|██████████| 2000/2000 [00:35<00:00, 57.12it/s] \n"
          ]
        },
        {
          "output_type": "stream",
          "name": "stdout",
          "text": [
            "\n",
            "无粘网络训练损失函数收敛于0.008878018707036972\n",
            "\n",
            "无粘网络测试集损失函数收敛于0.0793270617723465\n"
          ]
        },
        {
          "output_type": "display_data",
          "data": {
            "text/plain": [
              "<Figure size 432x288 with 1 Axes>"
            ],
            "image/png": "[encoded data removed]"
          },
          "metadata": {
            "needs_background": "light"
          }
        },
        {
          "output_type": "display_data",
          "data": {
            "text/plain": [
              "<Figure size 432x288 with 1 Axes>"
            ],
            "image/png": "[encoded data removed]"
          },
          "metadata": {
            "needs_background": "light"
          }
        }
      ]
    },
    {
      "cell_type": "code",
      "source": [
        "def visualization_function(model, ins_path, labs_path, device):\n",
        "  \n",
        "  visualization_volume = 20\n",
        "\n",
        "  ins = pd.read_csv(ins_path)\n",
        "  labs = pd.read_csv(labs_path)\n",
        "  \n",
        "  ins = np.array(ins)\n",
        "  labs = np.array(labs)\n",
        "\n",
        "  positions = labs[:,0].reshape(-1,10)\n",
        "  labs = labs[:,1].reshape(-1,10)\n",
        "\n",
        "  data_volume = ins.shape[0]\n",
        "\n",
        "  visualization_index = random.sample(range(0, data_volume), visualization_volume)\n",
        "\n",
        "  ins = torch.from_numpy(ins[visualization_index, :]).to(device)\n",
        "  labs = torch.from_numpy(labs[visualization_index, :]).to(device)\n",
        "  positions = torch.from_numpy(positions[visualization_index, :]).to(device)\n",
        "\n",
        "  pred = model(ins.reshape(-1,2).to(torch.float32))\n",
        "  \n",
        "  plt.figure(figsize=(30, 30))\n",
        "  for i in range(visualization_volume):\n",
        "    fig1 = plt.subplot(5, 4, i+1)\n",
        "    position = positions[i, :].reshape(-1,10)\n",
        "    val_labs = labs[i, :].reshape(-1,10)\n",
        "    val_pred = pred[i, :].reshape(-1,10)\n",
        "    plt.plot(position, val_labs.detach().numpy(),'kv')\n",
        "    plt.plot(position, val_pred.detach().numpy(),'bs')\n",
        "  plt.show()"
      ],
      "metadata": {
        "id": "-egWu0O4L1E4"
      },
      "execution_count": 80,
      "outputs": []
    },
    {
      "cell_type": "code",
      "source": [
        "ins_path = 'drive/MyDrive/Colab Notebooks/bm_wang/data/HB2/inv/inv_input_data.csv'\n",
        "labs_path = 'drive/MyDrive/Colab Notebooks/bm_wang/data/HB2/inv/inv_output_data.csv'\n",
        "visualization_function(inviscid_nn, ins_path, labs_path, device)"
      ],
      "metadata": {
        "colab": {
          "base_uri": "https://localhost:8080/",
          "height": 1000
        },
        "id": "ny11sGQgP-Si",
        "outputId": "723b0b5a-5a57-4e82-c1e8-4150a2f343f1"
      },
      "execution_count": 81,
      "outputs": [
        {
          "output_type": "display_data",
          "data": {
            "text/plain": [
              "<Figure size 2160x2160 with 20 Axes>"
            ],
            "image/png": "[encoded data removed]"
          },
          "metadata": {
            "needs_background": "light"
          }
        }
      ]
    },
    {
      "cell_type": "markdown",
      "source": [
        "# type1"
      ],
      "metadata": {
        "id": "g2BuRZvJVFbL"
      }
    },
    {
      "cell_type": "markdown",
      "source": [
        "\n",
        "```\n",
        "def define_inviscid_nn(hyperparameter):\n",
        "  num_layers = hyperparameter.suggest_int('num_layers', 1, 4)\n",
        "  layer = []\n",
        "  in_features = 2\n",
        "  # hidden layer\n",
        "  for i in range(num_layers):\n",
        "    out_features = hyperparameter.suggest_int(f'n_neurons_{i}', 10, 400)\n",
        "    layer.append(nn.Linear(in_features, out_features))\n",
        "    layer.append(nn.ReLU())\n",
        "    p = hyperparameter.suggest_float(f'dropout_{i}', 0.2, 0.5)\n",
        "    layer.append(nn.Dropout(p))\n",
        "    in_features = out_features\n",
        "  # output layer\n",
        "  layer.append(nn.Linear(in_features, 10))\n",
        "  \n",
        "  return nn.Sequential(*layer)\n",
        "     \n",
        "```\n"
      ],
      "metadata": {
        "id": "bXeCI5JO4se5"
      }
    },
    {
      "cell_type": "markdown",
      "source": [
        "\n",
        "\n",
        "```\n",
        "def objective_function(hyperparameter):\n",
        "  model = define_inviscid_nn(hyperparameter).to(device)\n",
        "  \n",
        "  lr = hyperparameter.suggest_float('lr',1e-5, 1e-1, log = True)\n",
        "  optimizer = optim.SGD(model.parameters(), lr = lr)\n",
        "  loss_function = nn.MSELoss()\n",
        "  \n",
        "  ins_path = 'drive/MyDrive/Colab Notebooks/bm_wang/data/HB2/inv/inv_input_data.csv'\n",
        "  labs_path = 'drive/MyDrive/Colab Notebooks/bm_wang/data/HB2/inv/inv_output_data.csv'\n",
        "  \n",
        "  train_set, test_set = building_dataset(ins_path, labs_path, 100, device)\n",
        "  \n",
        "  epoches = 1000\n",
        "  for epoch in range(epoches):\n",
        "    for index, (ins, lab) in enumerate(train_set):\n",
        "      model.train()\n",
        "      ins = Variable(ins).reshape(-1,2).to(torch.float32).to(device)\n",
        "      lab = Variable(lab).reshape(-1,10).to(torch.float32).to(device)\n",
        "      optimizer.zero_grad()\n",
        "      pred = model(ins)\n",
        "      rmse = loss_function(pred, lab)\n",
        "      rmse.backward()\n",
        "      optimizer.step()\n",
        "\n",
        "    model.eval()\n",
        "    with torch.no_grad():\n",
        "      for index, (ins, lab) in enumerate(test_set):\n",
        "        ins = ins.reshape(-1,2).to(torch.float32).to(device)\n",
        "        lab = lab.reshape(-1,10).to(torch.float32).to(device)\n",
        "        pred = model(ins)\n",
        "        rrmse = relative_root_mean_squared_error(pred, lab)\n",
        "    \n",
        "    hyperparameter.report(rrmse, epoch)\n",
        "  return rrmse\n",
        "```\n",
        "\n"
      ],
      "metadata": {
        "id": "DT4b0Kj52eJK"
      }
    },
    {
      "cell_type": "markdown",
      "source": [
        "# type2"
      ],
      "metadata": {
        "id": "0UVFbPXAVJ63"
      }
    },
    {
      "cell_type": "markdown",
      "source": [
        "\n",
        "\n",
        "```\n",
        "class inviscid_nn(nn.Module):\n",
        "  def __init__(self, hyperparameter):\n",
        "    super(inviscid_nn, self).__init__()\n",
        "    \n",
        "    self.in_features = 2\n",
        "    self.num_layer = hyperparameter.suggest_int('num_layer',1,4)\n",
        "    self.layer = []\n",
        "\n",
        "    for i in range(self.num_layer):\n",
        "      self.out_features = hyperparameter.suggest_int(f'num_neurons_{i}', 10, 400)\n",
        "      self.layer.append(nn.Linear(self.in_features, self.out_features))\n",
        "      self.layer.append(nn.ReLU())\n",
        "      self.p = hyperparameter.suggest_float(f'dropout_{i}', 0.2, 0.5)\n",
        "      self.layer.append(nn.Dropout(self.p))\n",
        "      self.in_features = self.out_features\n",
        "    self.hidden_layer = nn.Sequential(*self.layer)\n",
        "    self.out_layer = nn.Sequential(\n",
        "        nn.Linear(self.in_features, 10)\n",
        "    )\n",
        "  def forward(self,x):\n",
        "    x = self.hidden_layer(x)\n",
        "    y = self.out_layer(x)\n",
        "    return y\n",
        "```\n",
        "\n"
      ],
      "metadata": {
        "id": "kNdsAYZIU7RS"
      }
    },
    {
      "cell_type": "markdown",
      "source": [
        "\n",
        "\n",
        "```\n",
        "def objective_function(hyperparameter):\n",
        "  model = inviscid_nn(hyperparameter).to(device)\n",
        "  \n",
        "  lr = hyperparameter.suggest_float('lr',1e-5, 1e-1, log = True)\n",
        "  \n",
        "  optimizer_name = hyperparameter.suggest_categorical(\"optimizer\", [\"Adam\", \"RMSprop\", \"SGD\"])\n",
        "  optimizer = getattr(optim, optimizer_name)(model.parameters(), lr=lr)\n",
        "  \n",
        "  loss_name = hyperparameter.suggest_categorical('loss_function',['MSELoss','SmoothL1Loss','L1Loss'])\n",
        "  loss_function = getattr(nn, loss_name)()\n",
        "  \n",
        "  ins_path = 'drive/MyDrive/Colab Notebooks/bm_wang/data/HB2/inv/inv_input_data.csv'\n",
        "  labs_path = 'drive/MyDrive/Colab Notebooks/bm_wang/data/HB2/inv/inv_output_data.csv'\n",
        "  train_set, test_set = building_dataset(ins_path, labs_path, 100, device)\n",
        "  \n",
        "  epoches = 1000\n",
        "  for epoch in range(epoches):\n",
        "    for index, (ins, lab) in enumerate(train_set):\n",
        "      model.train()\n",
        "      ins = Variable(ins).reshape(-1,2).to(torch.float32).to(device)\n",
        "      lab = Variable(lab).reshape(-1,10).to(torch.float32).to(device)\n",
        "      optimizer.zero_grad()\n",
        "      pred = model(ins)\n",
        "      rmse = loss_function(pred, lab)\n",
        "      rmse.backward()\n",
        "      optimizer.step()\n",
        "\n",
        "    model.eval()\n",
        "    with torch.no_grad():\n",
        "      for index, (ins, lab) in enumerate(test_set):\n",
        "        ins = ins.reshape(-1,2).to(torch.float32).to(device)\n",
        "        lab = lab.reshape(-1,10).to(torch.float32).to(device)\n",
        "        pred = model(ins)\n",
        "        rrmse = relative_root_mean_squared_error(pred, lab)\n",
        "    \n",
        "    hyperparameter.report(rrmse, epoch)\n",
        "  return rrmse\n",
        "```\n",
        "\n"
      ],
      "metadata": {
        "id": "3d282ioSVAyL"
      }
    }
  ]
}