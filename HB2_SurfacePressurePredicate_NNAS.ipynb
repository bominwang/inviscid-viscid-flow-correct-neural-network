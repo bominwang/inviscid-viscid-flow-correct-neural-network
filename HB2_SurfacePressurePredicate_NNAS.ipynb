{
  "nbformat": 4,
  "nbformat_minor": 0,
  "metadata": {
    "colab": {
      "provenance": [],
      "authorship_tag": "ABX9TyM3HKlXA+i9OvSsu6mXf1kk",
      "include_colab_link": true
    },
    "kernelspec": {
      "name": "python3",
      "display_name": "Python 3"
    },
    "language_info": {
      "name": "python"
    },
    "accelerator": "GPU",
    "gpuClass": "standard"
  },
  "cells": [
    {
      "cell_type": "markdown",
      "metadata": {
        "id": "view-in-github",
        "colab_type": "text"
      },
      "source": [
        "<a href=\"https://colab.research.google.com/github/bominwang/inviscid-viscid-flow-correct-neural-network/blob/HB-2-surface-pressure/HB2_SurfacePressurePredicate_NNAS.ipynb\" target=\"_parent\"><img src=\"https://colab.research.google.com/assets/colab-badge.svg\" alt=\"Open In Colab\"/></a>"
      ]
    },
    {
      "cell_type": "code",
      "source": [
        "from google.colab import drive \n",
        "drive.mount('/content/drive')\n",
        "import pdb"
      ],
      "metadata": {
        "colab": {
          "base_uri": "https://localhost:8080/"
        },
        "id": "9ThyGW7kV_fO",
        "outputId": "a235fdb1-f2a5-4b26-85af-48374a7bc889"
      },
      "execution_count": 36,
      "outputs": [
        {
          "output_type": "stream",
          "name": "stdout",
          "text": [
            "Drive already mounted at /content/drive; to attempt to forcibly remount, call drive.mount(\"/content/drive\", force_remount=True).\n"
          ]
        }
      ]
    },
    {
      "cell_type": "code",
      "execution_count": 37,
      "metadata": {
        "id": "JwOy1K3j9bE7"
      },
      "outputs": [],
      "source": [
        "import torch\n",
        "import random\n",
        "import pandas as pd\n",
        "import numpy as np\n",
        "import torch.nn as nn\n",
        "import torch.optim as optim\n",
        "from torch.autograd import Variable\n",
        "from torch.utils.data import DataLoader, TensorDataset"
      ]
    },
    {
      "cell_type": "code",
      "source": [
        "!pip install optuna\n",
        "import optuna"
      ],
      "metadata": {
        "colab": {
          "base_uri": "https://localhost:8080/"
        },
        "id": "35D0VbBQ0sox",
        "outputId": "4d6e85ef-eb93-462a-ae03-8c155c4531fd"
      },
      "execution_count": 38,
      "outputs": [
        {
          "output_type": "stream",
          "name": "stdout",
          "text": [
            "Looking in indexes: https://pypi.org/simple, https://us-python.pkg.dev/colab-wheels/public/simple/\n",
            "Requirement already satisfied: optuna in /usr/local/lib/python3.8/dist-packages (3.1.0)\n",
            "Requirement already satisfied: packaging>=20.0 in /usr/local/lib/python3.8/dist-packages (from optuna) (23.0)\n",
            "Requirement already satisfied: tqdm in /usr/local/lib/python3.8/dist-packages (from optuna) (4.64.1)\n",
            "Requirement already satisfied: sqlalchemy>=1.3.0 in /usr/local/lib/python3.8/dist-packages (from optuna) (1.4.46)\n",
            "Requirement already satisfied: alembic>=1.5.0 in /usr/local/lib/python3.8/dist-packages (from optuna) (1.9.3)\n",
            "Requirement already satisfied: colorlog in /usr/local/lib/python3.8/dist-packages (from optuna) (6.7.0)\n",
            "Requirement already satisfied: cmaes>=0.9.1 in /usr/local/lib/python3.8/dist-packages (from optuna) (0.9.1)\n",
            "Requirement already satisfied: PyYAML in /usr/local/lib/python3.8/dist-packages (from optuna) (6.0)\n",
            "Requirement already satisfied: numpy in /usr/local/lib/python3.8/dist-packages (from optuna) (1.21.6)\n",
            "Requirement already satisfied: importlib-resources in /usr/local/lib/python3.8/dist-packages (from alembic>=1.5.0->optuna) (5.10.2)\n",
            "Requirement already satisfied: importlib-metadata in /usr/local/lib/python3.8/dist-packages (from alembic>=1.5.0->optuna) (6.0.0)\n",
            "Requirement already satisfied: Mako in /usr/local/lib/python3.8/dist-packages (from alembic>=1.5.0->optuna) (1.2.4)\n",
            "Requirement already satisfied: greenlet!=0.4.17 in /usr/local/lib/python3.8/dist-packages (from sqlalchemy>=1.3.0->optuna) (2.0.2)\n",
            "Requirement already satisfied: zipp>=0.5 in /usr/local/lib/python3.8/dist-packages (from importlib-metadata->alembic>=1.5.0->optuna) (3.12.0)\n",
            "Requirement already satisfied: MarkupSafe>=0.9.2 in /usr/local/lib/python3.8/dist-packages (from Mako->alembic>=1.5.0->optuna) (2.0.1)\n"
          ]
        }
      ]
    },
    {
      "cell_type": "code",
      "source": [
        "device = torch.device(\"cuda:0\" if torch.cuda.is_available() else \"cpu\")"
      ],
      "metadata": {
        "id": "IKtNSDyn-Xp6"
      },
      "execution_count": 39,
      "outputs": []
    },
    {
      "cell_type": "code",
      "source": [
        "def building_dataset(ins_path, lab_path, train_volume, device):\n",
        "  ins = pd.read_csv(ins_path)\n",
        "  labs = pd.read_csv(lab_path)\n",
        "  \n",
        "  ins = np.array(ins)\n",
        "  labs = np.array(labs)\n",
        "  labs = labs[:,1].reshape(-1,10)\n",
        "\n",
        "  data_volume = ins.shape[0]\n",
        "  test_volume = data_volume - train_volume\n",
        "  \n",
        "  data_index = list(range(data_volume))\n",
        "  train_index = random.sample(range(0, data_volume), train_volume)\n",
        "  test_index = np.setdiff1d(data_index, train_index)\n",
        "\n",
        "  train_data_ins = torch.from_numpy(ins[train_index, :])\n",
        "  train_data_labs = torch.from_numpy(labs[train_index, :])\n",
        "  \n",
        "  test_data_ins = torch.from_numpy(ins[test_index, :])\n",
        "  test_data_labs = torch.from_numpy(labs[test_index, :])\n",
        "  \n",
        "  train_set = TensorDataset(train_data_ins, train_data_labs)\n",
        "  train_set = DataLoader(train_set, batch_size = train_volume, shuffle = True)\n",
        "  \n",
        "  test_set = TensorDataset(test_data_ins, train_data_labs)\n",
        "  test_set = DataLoader(test_set, batch_size = test_volume, shuffle = True)\n",
        "\n",
        "  return train_set, test_set"
      ],
      "metadata": {
        "id": "Emkwat8DXw6h"
      },
      "execution_count": 40,
      "outputs": []
    },
    {
      "cell_type": "code",
      "source": [
        "def relative_root_mean_squared_error(pred, true):\n",
        "  size = pred.size(dim = 1)\n",
        "  error = torch.zeros(size, 1)\n",
        "  normalization_factor = torch.zeros(size, 1)\n",
        "  for index in range(size):\n",
        "    pred_element = pred[index, :]\n",
        "    true_element = true[index, :]\n",
        "    error[index, :] = torch.dot(pred_element - true_element, pred_element - true_element)\n",
        "    normalization_factor[index,:] = torch.dot(true_element, true_element)\n",
        "  return torch.sqrt(torch.div(torch.sum(error),torch.sum(normalization_factor)))"
      ],
      "metadata": {
        "id": "RKMcQdpNocrd"
      },
      "execution_count": 41,
      "outputs": []
    },
    {
      "cell_type": "code",
      "source": [
        "class inviscid_nn(nn.Module):\n",
        "  def __init__(self, hyperparameter):\n",
        "    super(inviscid_nn, self).__init__()\n",
        "    \n",
        "    self.in_features = 2\n",
        "    self.num_layer = hyperparameter.suggest_int('num_layer',1,4)\n",
        "    self.layer = []\n",
        "\n",
        "    for i in range(self.num_layer):\n",
        "      self.out_features = hyperparameter.suggest_int(f'num_neurons_{i}', 10, 400)\n",
        "      self.layer.append(nn.Linear(self.in_features, self.out_features))\n",
        "      self.layer.append(nn.ReLU())\n",
        "      self.p = hyperparameter.suggest_float(f'dropout_{i}', 0.2, 0.5)\n",
        "      self.layer.append(nn.Dropout(self.p))\n",
        "      self.in_features = self.out_features\n",
        "    self.hidden_layer = nn.Sequential(*self.layer)\n",
        "    self.out_layer = nn.Sequential(\n",
        "        nn.Linear(self.in_features, 10)\n",
        "    )\n",
        "  def forward(self,x):\n",
        "    x = self.hidden_layer(x)\n",
        "    y = self.out_layer(x)\n",
        "    return y"
      ],
      "metadata": {
        "id": "kgdW2XSeTGxH"
      },
      "execution_count": 42,
      "outputs": []
    },
    {
      "cell_type": "code",
      "source": [
        "def objective_function(hyperparameter):\n",
        "  model = inviscid_nn(hyperparameter).to(device)\n",
        "  \n",
        "  lr = hyperparameter.suggest_float('lr',1e-5, 1e-1, log = True)\n",
        "  optimizer = optim.SGD(model.parameters(), lr = lr)\n",
        "  loss_function = nn.MSELoss()\n",
        "  \n",
        "  ins_path = 'drive/MyDrive/Colab Notebooks/bm_wang/data/HB2/inv/inv_input_data.csv'\n",
        "  labs_path = 'drive/MyDrive/Colab Notebooks/bm_wang/data/HB2/inv/inv_output_data.csv'\n",
        "  \n",
        "  train_set, test_set = building_dataset(ins_path, labs_path, 100, device)\n",
        "  \n",
        "  epoches = 1000\n",
        "  for epoch in range(epoches):\n",
        "    for index, (ins, lab) in enumerate(train_set):\n",
        "      model.train()\n",
        "      ins = Variable(ins).reshape(-1,2).to(torch.float32).to(device)\n",
        "      lab = Variable(lab).reshape(-1,10).to(torch.float32).to(device)\n",
        "      optimizer.zero_grad()\n",
        "      pred = model(ins)\n",
        "      rmse = loss_function(pred, lab)\n",
        "      rmse.backward()\n",
        "      optimizer.step()\n",
        "\n",
        "    model.eval()\n",
        "    with torch.no_grad():\n",
        "      for index, (ins, lab) in enumerate(test_set):\n",
        "        ins = ins.reshape(-1,2).to(torch.float32).to(device)\n",
        "        lab = lab.reshape(-1,10).to(torch.float32).to(device)\n",
        "        pred = model(ins)\n",
        "        rrmse = relative_root_mean_squared_error(pred, lab)\n",
        "    \n",
        "    hyperparameter.report(rrmse, epoch)\n",
        "  return rrmse"
      ],
      "metadata": {
        "id": "ErK_wmUid6h6"
      },
      "execution_count": 43,
      "outputs": []
    },
    {
      "cell_type": "code",
      "source": [
        "study = optuna.create_study(study_name = 'inviscid_nn', direction='minimize')\n",
        "study.optimize(objective_function, n_trials = 10, timeout = 600)\n",
        "\n",
        "pruned_trials = [t for t in study.trials if t.state == optuna.trial.TrialState.PRUNED]\n",
        "complete_trials = [t for t in study.trials if t.state == optuna.trial.TrialState.COMPLETE]"
      ],
      "metadata": {
        "colab": {
          "base_uri": "https://localhost:8080/"
        },
        "id": "JO_zDgCyMU3R",
        "outputId": "f46df123-1c02-4d1b-fcf4-17dee14143b8"
      },
      "execution_count": 44,
      "outputs": [
        {
          "output_type": "stream",
          "name": "stderr",
          "text": [
            "\u001b[32m[I 2023-02-08 16:47:00,926]\u001b[0m A new study created in memory with name: inviscid_nn\u001b[0m\n",
            "\u001b[32m[I 2023-02-08 16:47:05,810]\u001b[0m Trial 0 finished with value: 0.07003813236951828 and parameters: {'num_layer': 1, 'num_neurons_0': 373, 'dropout_0': 0.22424202597607246, 'lr': 0.03785947965445034}. Best is trial 0 with value: 0.07003813236951828.\u001b[0m\n",
            "\u001b[32m[I 2023-02-08 16:47:11,635]\u001b[0m Trial 1 finished with value: 0.07508475333452225 and parameters: {'num_layer': 1, 'num_neurons_0': 315, 'dropout_0': 0.3091506088753865, 'lr': 0.0016746658817565641}. Best is trial 0 with value: 0.07003813236951828.\u001b[0m\n",
            "\u001b[32m[I 2023-02-08 16:47:20,949]\u001b[0m Trial 2 finished with value: 0.0630568191409111 and parameters: {'num_layer': 1, 'num_neurons_0': 129, 'dropout_0': 0.22109399610335415, 'lr': 0.034929002256744716}. Best is trial 2 with value: 0.0630568191409111.\u001b[0m\n",
            "\u001b[32m[I 2023-02-08 16:47:26,083]\u001b[0m Trial 3 finished with value: 0.07850988209247589 and parameters: {'num_layer': 4, 'num_neurons_0': 247, 'dropout_0': 0.47716697474402814, 'num_neurons_1': 11, 'dropout_1': 0.4070984068649154, 'num_neurons_2': 397, 'dropout_2': 0.36138384222541425, 'num_neurons_3': 251, 'dropout_3': 0.29768058907081674, 'lr': 0.07924638654490593}. Best is trial 2 with value: 0.0630568191409111.\u001b[0m\n",
            "\u001b[32m[I 2023-02-08 16:47:31,192]\u001b[0m Trial 4 finished with value: 0.09294017404317856 and parameters: {'num_layer': 1, 'num_neurons_0': 102, 'dropout_0': 0.20319124923814988, 'lr': 0.02962444312952614}. Best is trial 2 with value: 0.0630568191409111.\u001b[0m\n",
            "\u001b[32m[I 2023-02-08 16:47:35,150]\u001b[0m Trial 5 finished with value: 0.09398701786994934 and parameters: {'num_layer': 1, 'num_neurons_0': 136, 'dropout_0': 0.4404837097824007, 'lr': 0.002745830556163979}. Best is trial 2 with value: 0.0630568191409111.\u001b[0m\n",
            "\u001b[32m[I 2023-02-08 16:47:39,901]\u001b[0m Trial 6 finished with value: 0.3262655735015869 and parameters: {'num_layer': 3, 'num_neurons_0': 56, 'dropout_0': 0.3077561474509506, 'num_neurons_1': 359, 'dropout_1': 0.36784563183066865, 'num_neurons_2': 236, 'dropout_2': 0.21067353296543812, 'lr': 0.000426828751810593}. Best is trial 2 with value: 0.0630568191409111.\u001b[0m\n",
            "\u001b[32m[I 2023-02-08 16:47:46,086]\u001b[0m Trial 7 finished with value: 0.7960817813873291 and parameters: {'num_layer': 4, 'num_neurons_0': 292, 'dropout_0': 0.20494951699783256, 'num_neurons_1': 161, 'dropout_1': 0.2547018743784763, 'num_neurons_2': 15, 'dropout_2': 0.34035467565517696, 'num_neurons_3': 206, 'dropout_3': 0.27609157776213034, 'lr': 1.9557942142996844e-05}. Best is trial 2 with value: 0.0630568191409111.\u001b[0m\n",
            "\u001b[32m[I 2023-02-08 16:47:50,046]\u001b[0m Trial 8 finished with value: 0.13413399457931519 and parameters: {'num_layer': 1, 'num_neurons_0': 182, 'dropout_0': 0.29344101264250877, 'lr': 4.63606334624596e-05}. Best is trial 2 with value: 0.0630568191409111.\u001b[0m\n",
            "\u001b[32m[I 2023-02-08 16:47:54,006]\u001b[0m Trial 9 finished with value: 0.08917655050754547 and parameters: {'num_layer': 1, 'num_neurons_0': 388, 'dropout_0': 0.488280628604133, 'lr': 0.04646111238365598}. Best is trial 2 with value: 0.0630568191409111.\u001b[0m\n"
          ]
        }
      ]
    },
    {
      "cell_type": "markdown",
      "source": [
        "\n",
        "```\n",
        "def define_inviscid_nn(hyperparameter):\n",
        "  num_layers = hyperparameter.suggest_int('num_layers', 1, 4)\n",
        "  layer = []\n",
        "  in_features = 2\n",
        "  # hidden layer\n",
        "  for i in range(num_layers):\n",
        "    out_features = hyperparameter.suggest_int(f'n_neurons_{i}', 10, 400)\n",
        "    layer.append(nn.Linear(in_features, out_features))\n",
        "    layer.append(nn.ReLU())\n",
        "    p = hyperparameter.suggest_float(f'dropout_{i}', 0.2, 0.5)\n",
        "    layer.append(nn.Dropout(p))\n",
        "    in_features = out_features\n",
        "  # output layer\n",
        "  layer.append(nn.Linear(in_features, 10))\n",
        "  \n",
        "  return nn.Sequential(*layer)\n",
        "     \n",
        "```\n"
      ],
      "metadata": {
        "id": "bXeCI5JO4se5"
      }
    },
    {
      "cell_type": "markdown",
      "source": [
        "\n",
        "\n",
        "```\n",
        "def objective_function(hyperparameter):\n",
        "  model = define_inviscid_nn(hyperparameter).to(device)\n",
        "  \n",
        "  lr = hyperparameter.suggest_float('lr',1e-5, 1e-1, log = True)\n",
        "  optimizer = optim.SGD(model.parameters(), lr = lr)\n",
        "  loss_function = nn.MSELoss()\n",
        "  \n",
        "  ins_path = 'drive/MyDrive/Colab Notebooks/bm_wang/data/HB2/inv/inv_input_data.csv'\n",
        "  labs_path = 'drive/MyDrive/Colab Notebooks/bm_wang/data/HB2/inv/inv_output_data.csv'\n",
        "  \n",
        "  train_set, test_set = building_dataset(ins_path, labs_path, 100, device)\n",
        "  \n",
        "  epoches = 1000\n",
        "  for epoch in range(epoches):\n",
        "    for index, (ins, lab) in enumerate(train_set):\n",
        "      model.train()\n",
        "      ins = Variable(ins).reshape(-1,2).to(torch.float32).to(device)\n",
        "      lab = Variable(lab).reshape(-1,10).to(torch.float32).to(device)\n",
        "      optimizer.zero_grad()\n",
        "      pred = model(ins)\n",
        "      rmse = loss_function(pred, lab)\n",
        "      rmse.backward()\n",
        "      optimizer.step()\n",
        "\n",
        "    model.eval()\n",
        "    with torch.no_grad():\n",
        "      for index, (ins, lab) in enumerate(test_set):\n",
        "        ins = ins.reshape(-1,2).to(torch.float32).to(device)\n",
        "        lab = lab.reshape(-1,10).to(torch.float32).to(device)\n",
        "        pred = model(ins)\n",
        "        rrmse = relative_root_mean_squared_error(pred, lab)\n",
        "    \n",
        "    hyperparameter.report(rrmse, epoch)\n",
        "  return rrmse\n",
        "```\n",
        "\n"
      ],
      "metadata": {
        "id": "DT4b0Kj52eJK"
      }
    }
  ]
}