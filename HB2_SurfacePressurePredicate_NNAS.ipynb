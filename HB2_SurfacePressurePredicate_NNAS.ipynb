{
  "nbformat": 4,
  "nbformat_minor": 0,
  "metadata": {
    "colab": {
      "provenance": [],
      "authorship_tag": "ABX9TyNw+DeWhvBpOHeeFXXl7O+A",
      "include_colab_link": true
    },
    "kernelspec": {
      "name": "python3",
      "display_name": "Python 3"
    },
    "language_info": {
      "name": "python"
    },
    "accelerator": "GPU",
    "gpuClass": "standard"
  },
  "cells": [
    {
      "cell_type": "markdown",
      "metadata": {
        "id": "view-in-github",
        "colab_type": "text"
      },
      "source": [
        "<a href=\"https://colab.research.google.com/github/bominwang/inviscid-viscid-flow-correct-neural-network/blob/HB-2-surface-pressure/HB2_SurfacePressurePredicate_NNAS.ipynb\" target=\"_parent\"><img src=\"https://colab.research.google.com/assets/colab-badge.svg\" alt=\"Open In Colab\"/></a>"
      ]
    },
    {
      "cell_type": "code",
      "source": [
        "from google.colab import drive \n",
        "drive.mount('/content/drive')"
      ],
      "metadata": {
        "colab": {
          "base_uri": "https://localhost:8080/"
        },
        "id": "9ThyGW7kV_fO",
        "outputId": "53312ab3-22df-4d2b-a480-88d4a52c571e"
      },
      "execution_count": 24,
      "outputs": [
        {
          "output_type": "stream",
          "name": "stdout",
          "text": [
            "Drive already mounted at /content/drive; to attempt to forcibly remount, call drive.mount(\"/content/drive\", force_remount=True).\n"
          ]
        }
      ]
    },
    {
      "cell_type": "code",
      "execution_count": 25,
      "metadata": {
        "id": "JwOy1K3j9bE7"
      },
      "outputs": [],
      "source": [
        "import torch\n",
        "import random\n",
        "import pandas as pd\n",
        "import numpy as np\n",
        "import torch.nn as nn\n",
        "import torch.optim as optim\n",
        "from torch.autograd import Variable\n",
        "from torch.utils.data import DataLoader, TensorDataset"
      ]
    },
    {
      "cell_type": "code",
      "source": [
        "!pip install optuna\n",
        "import optuna"
      ],
      "metadata": {
        "colab": {
          "base_uri": "https://localhost:8080/"
        },
        "id": "35D0VbBQ0sox",
        "outputId": "b0eb850e-7a73-4a12-b84e-0daf9a4ae61f"
      },
      "execution_count": 26,
      "outputs": [
        {
          "output_type": "stream",
          "name": "stdout",
          "text": [
            "Looking in indexes: https://pypi.org/simple, https://us-python.pkg.dev/colab-wheels/public/simple/\n",
            "Requirement already satisfied: optuna in /usr/local/lib/python3.8/dist-packages (3.1.0)\n",
            "Requirement already satisfied: alembic>=1.5.0 in /usr/local/lib/python3.8/dist-packages (from optuna) (1.9.3)\n",
            "Requirement already satisfied: sqlalchemy>=1.3.0 in /usr/local/lib/python3.8/dist-packages (from optuna) (1.4.46)\n",
            "Requirement already satisfied: colorlog in /usr/local/lib/python3.8/dist-packages (from optuna) (6.7.0)\n",
            "Requirement already satisfied: tqdm in /usr/local/lib/python3.8/dist-packages (from optuna) (4.64.1)\n",
            "Requirement already satisfied: cmaes>=0.9.1 in /usr/local/lib/python3.8/dist-packages (from optuna) (0.9.1)\n",
            "Requirement already satisfied: packaging>=20.0 in /usr/local/lib/python3.8/dist-packages (from optuna) (23.0)\n",
            "Requirement already satisfied: PyYAML in /usr/local/lib/python3.8/dist-packages (from optuna) (6.0)\n",
            "Requirement already satisfied: numpy in /usr/local/lib/python3.8/dist-packages (from optuna) (1.21.6)\n",
            "Requirement already satisfied: importlib-metadata in /usr/local/lib/python3.8/dist-packages (from alembic>=1.5.0->optuna) (6.0.0)\n",
            "Requirement already satisfied: Mako in /usr/local/lib/python3.8/dist-packages (from alembic>=1.5.0->optuna) (1.2.4)\n",
            "Requirement already satisfied: importlib-resources in /usr/local/lib/python3.8/dist-packages (from alembic>=1.5.0->optuna) (5.10.2)\n",
            "Requirement already satisfied: greenlet!=0.4.17 in /usr/local/lib/python3.8/dist-packages (from sqlalchemy>=1.3.0->optuna) (2.0.2)\n",
            "Requirement already satisfied: zipp>=0.5 in /usr/local/lib/python3.8/dist-packages (from importlib-metadata->alembic>=1.5.0->optuna) (3.12.0)\n",
            "Requirement already satisfied: MarkupSafe>=0.9.2 in /usr/local/lib/python3.8/dist-packages (from Mako->alembic>=1.5.0->optuna) (2.0.1)\n"
          ]
        }
      ]
    },
    {
      "cell_type": "code",
      "source": [
        "device = torch.device(\"cuda:0\" if torch.cuda.is_available() else \"cpu\")"
      ],
      "metadata": {
        "id": "IKtNSDyn-Xp6"
      },
      "execution_count": 27,
      "outputs": []
    },
    {
      "cell_type": "code",
      "source": [
        "def building_dataset(ins_path, lab_path, train_volume, device):\n",
        "  ins = pd.read_csv(ins_path)\n",
        "  labs = pd.read_csv(lab_path)\n",
        "  \n",
        "  ins = np.array(ins)\n",
        "  labs = np.array(labs)\n",
        "  labs = labs[:,1].reshape(-1,10)\n",
        "\n",
        "  data_volume = ins.shape[0]\n",
        "  test_volume = data_volume - train_volume\n",
        "  \n",
        "  data_index = list(range(data_volume))\n",
        "  train_index = random.sample(range(0, data_volume), train_volume)\n",
        "  test_index = np.setdiff1d(data_index, train_index)\n",
        "\n",
        "  train_data_ins = torch.from_numpy(ins[train_index, :])\n",
        "  train_data_labs = torch.from_numpy(labs[train_index, :])\n",
        "  \n",
        "  test_data_ins = torch.from_numpy(ins[test_index, :])\n",
        "  test_data_labs = torch.from_numpy(labs[test_index, :])\n",
        "  \n",
        "  train_set = TensorDataset(train_data_ins, train_data_labs)\n",
        "  train_set = DataLoader(train_set, batch_size = train_volume, shuffle = True)\n",
        "  \n",
        "  test_set = TensorDataset(test_data_ins, train_data_labs)\n",
        "  test_set = DataLoader(test_set, batch_size = test_volume, shuffle = True)\n",
        "\n",
        "  return train_set, test_set"
      ],
      "metadata": {
        "id": "Emkwat8DXw6h"
      },
      "execution_count": 28,
      "outputs": []
    },
    {
      "cell_type": "code",
      "source": [
        "def relative_root_mean_squared_error(pred, true):\n",
        "  size = pred.size(dim = 1)\n",
        "  error = torch.zeros(size, 1)\n",
        "  normalization_factor = torch.zeros(size, 1)\n",
        "  for index in range(size):\n",
        "    pred_element = pred[index, :]\n",
        "    true_element = true[index, :]\n",
        "    error[index, :] = torch.dot(pred_element - true_element, pred_element - true_element)\n",
        "    normalization_factor[index,:] = torch.dot(true_element, true_element)\n",
        "  return torch.sqrt(torch.div(torch.sum(error),torch.sum(normalization_factor)))"
      ],
      "metadata": {
        "id": "RKMcQdpNocrd"
      },
      "execution_count": 29,
      "outputs": []
    },
    {
      "cell_type": "code",
      "source": [
        "def define_inviscid_nn(hyperparameter):\n",
        "  num_layers = hyperparameter.suggest_int('num_layers', 1, 4)\n",
        "  layer = []\n",
        "  in_features = 2\n",
        "  # hidden layer\n",
        "  for i in range(num_layers):\n",
        "    out_features = hyperparameter.suggest_int(f'n_neurons_{i}', 10, 400)\n",
        "    layer.append(nn.Linear(in_features, out_features))\n",
        "    layer.append(nn.ReLU())\n",
        "    p = hyperparameter.suggest_float(f'dropout_{i}', 0.2, 0.5)\n",
        "    layer.append(nn.Dropout(p))\n",
        "    in_features = out_features\n",
        "  # output layer\n",
        "  layer.append(nn.Linear(in_features, 10))\n",
        "  \n",
        "  return nn.Sequential(*layer)"
      ],
      "metadata": {
        "id": "kgdW2XSeTGxH"
      },
      "execution_count": 30,
      "outputs": []
    },
    {
      "cell_type": "code",
      "source": [
        "def objective_function(hyperparameter):\n",
        "  model = define_inviscid_nn(hyperparameter).to(device)\n",
        "  \n",
        "  lr = hyperparameter.suggest_float('lr',1e-5, 1e-1, log = True)\n",
        "  optimizer = optim.SGD(model.parameters(), lr = lr)\n",
        "  loss_function = nn.MSELoss()\n",
        "  \n",
        "  ins_path = 'drive/MyDrive/Colab Notebooks/bm_wang/data/HB2/inv/inv_input_data.csv'\n",
        "  labs_path = 'drive/MyDrive/Colab Notebooks/bm_wang/data/HB2/inv/inv_output_data.csv'\n",
        "  \n",
        "  train_set, test_set = building_dataset(ins_path, labs_path, 100, device)\n",
        "  \n",
        "  epoches = 1000\n",
        "  for epoch in range(epoches):\n",
        "    for index, (ins, lab) in enumerate(train_set):\n",
        "      model.train()\n",
        "      ins = Variable(ins).reshape(-1,2).to(torch.float32).to(device)\n",
        "      lab = Variable(lab).reshape(-1,10).to(torch.float32).to(device)\n",
        "      optimizer.zero_grad()\n",
        "      pred = model(ins)\n",
        "      rmse = loss_function(pred, lab)\n",
        "      rmse.backward()\n",
        "      optimizer.step()\n",
        "\n",
        "    model.eval()\n",
        "    with torch.no_grad():\n",
        "      for index, (ins, lab) in enumerate(test_set):\n",
        "        ins = ins.reshape(-1,2).to(torch.float32).to(device)\n",
        "        lab = lab.reshape(-1,10).to(torch.float32).to(device)\n",
        "        pred = model(ins)\n",
        "        rrmse = relative_root_mean_squared_error(pred, lab)\n",
        "    \n",
        "    hyperparameter.report(rrmse, epoch)\n",
        "  return rrmse"
      ],
      "metadata": {
        "id": "ErK_wmUid6h6"
      },
      "execution_count": 33,
      "outputs": []
    },
    {
      "cell_type": "code",
      "source": [
        "study = optuna.create_study(study_name = 'inviscid_nn', direction='minimize')\n",
        "study.optimize(objective_function, n_trials = 100, timeout = 600)\n",
        "\n",
        "pruned_trials = [t for t in study.trials if t.state == optuna.trial.TrialState.PRUNED]\n",
        "complete_trials = [t for t in study.trials if t.state == optuna.trial.TrialState.COMPLETE]"
      ],
      "metadata": {
        "colab": {
          "base_uri": "https://localhost:8080/"
        },
        "id": "JO_zDgCyMU3R",
        "outputId": "1367d242-77f1-41c0-8f37-52c01f8c7b52"
      },
      "execution_count": 34,
      "outputs": [
        {
          "output_type": "stream",
          "name": "stderr",
          "text": [
            "\u001b[32m[I 2023-02-08 10:38:04,139]\u001b[0m A new study created in memory with name: inviscid_nn\u001b[0m\n",
            "\u001b[32m[I 2023-02-08 10:38:07,804]\u001b[0m Trial 0 finished with value: 0.052408766001462936 and parameters: {'num_layers': 1, 'n_neurons_0': 102, 'dropout_0': 0.4917841514430039, 'lr': 0.09198190929798847}. Best is trial 0 with value: 0.052408766001462936.\u001b[0m\n",
            "\u001b[32m[I 2023-02-08 10:38:16,464]\u001b[0m Trial 1 finished with value: 0.4131770133972168 and parameters: {'num_layers': 4, 'n_neurons_0': 291, 'dropout_0': 0.21669631255418403, 'n_neurons_1': 210, 'dropout_1': 0.47840774356329624, 'n_neurons_2': 193, 'dropout_2': 0.41776091285323325, 'n_neurons_3': 117, 'dropout_3': 0.49199362225769033, 'lr': 0.0029694369186513765}. Best is trial 0 with value: 0.052408766001462936.\u001b[0m\n",
            "\u001b[32m[I 2023-02-08 10:38:21,444]\u001b[0m Trial 2 finished with value: 0.5867802500724792 and parameters: {'num_layers': 3, 'n_neurons_0': 378, 'dropout_0': 0.2397238565860198, 'n_neurons_1': 34, 'dropout_1': 0.23721166569317556, 'n_neurons_2': 43, 'dropout_2': 0.30213175898710287, 'lr': 9.160285915031753e-05}. Best is trial 0 with value: 0.052408766001462936.\u001b[0m\n",
            "\u001b[32m[I 2023-02-08 10:38:28,377]\u001b[0m Trial 3 finished with value: 0.2707137167453766 and parameters: {'num_layers': 3, 'n_neurons_0': 262, 'dropout_0': 0.27729145857416326, 'n_neurons_1': 379, 'dropout_1': 0.27114860030673205, 'n_neurons_2': 46, 'dropout_2': 0.20165130481802673, 'lr': 0.0038566284879458885}. Best is trial 0 with value: 0.052408766001462936.\u001b[0m\n",
            "\u001b[32m[I 2023-02-08 10:38:33,652]\u001b[0m Trial 4 finished with value: 0.40037497878074646 and parameters: {'num_layers': 2, 'n_neurons_0': 69, 'dropout_0': 0.4097600779466867, 'n_neurons_1': 107, 'dropout_1': 0.360638787837692, 'lr': 0.007133510613595256}. Best is trial 0 with value: 0.052408766001462936.\u001b[0m\n",
            "\u001b[32m[I 2023-02-08 10:38:36,940]\u001b[0m Trial 5 finished with value: 2.1505753993988037 and parameters: {'num_layers': 1, 'n_neurons_0': 10, 'dropout_0': 0.3677716153802104, 'lr': 9.272963397605624e-05}. Best is trial 0 with value: 0.052408766001462936.\u001b[0m\n",
            "\u001b[32m[I 2023-02-08 10:38:41,843]\u001b[0m Trial 6 finished with value: 0.6249324083328247 and parameters: {'num_layers': 2, 'n_neurons_0': 77, 'dropout_0': 0.3183912188493711, 'n_neurons_1': 330, 'dropout_1': 0.4417377725424958, 'lr': 2.233157261740115e-05}. Best is trial 0 with value: 0.052408766001462936.\u001b[0m\n",
            "\u001b[32m[I 2023-02-08 10:38:54,757]\u001b[0m Trial 7 finished with value: 1.0530781745910645 and parameters: {'num_layers': 4, 'n_neurons_0': 382, 'dropout_0': 0.4042718344731938, 'n_neurons_1': 228, 'dropout_1': 0.46063275006100923, 'n_neurons_2': 258, 'dropout_2': 0.35422397896223934, 'n_neurons_3': 274, 'dropout_3': 0.31880352888734903, 'lr': 2.4084158044647802e-05}. Best is trial 0 with value: 0.052408766001462936.\u001b[0m\n",
            "\u001b[32m[I 2023-02-08 10:39:03,910]\u001b[0m Trial 8 finished with value: 0.45658570528030396 and parameters: {'num_layers': 4, 'n_neurons_0': 30, 'dropout_0': 0.3606263775914484, 'n_neurons_1': 335, 'dropout_1': 0.46999283948549336, 'n_neurons_2': 167, 'dropout_2': 0.25255448905870087, 'n_neurons_3': 285, 'dropout_3': 0.4911274878828, 'lr': 0.0023111812490721933}. Best is trial 0 with value: 0.052408766001462936.\u001b[0m\n",
            "\u001b[32m[I 2023-02-08 10:39:10,140]\u001b[0m Trial 9 finished with value: 0.42804980278015137 and parameters: {'num_layers': 2, 'n_neurons_0': 194, 'dropout_0': 0.3825509172878164, 'n_neurons_1': 343, 'dropout_1': 0.4566151590658956, 'lr': 0.00041980601806258707}. Best is trial 0 with value: 0.052408766001462936.\u001b[0m\n",
            "\u001b[32m[I 2023-02-08 10:39:15,296]\u001b[0m Trial 10 finished with value: 0.059819839894771576 and parameters: {'num_layers': 1, 'n_neurons_0': 151, 'dropout_0': 0.48728885261866023, 'lr': 0.08300353242544649}. Best is trial 0 with value: 0.052408766001462936.\u001b[0m\n",
            "\u001b[32m[I 2023-02-08 10:39:19,398]\u001b[0m Trial 11 finished with value: 0.07079735398292542 and parameters: {'num_layers': 1, 'n_neurons_0': 134, 'dropout_0': 0.4836153596158891, 'lr': 0.08385873055739196}. Best is trial 0 with value: 0.052408766001462936.\u001b[0m\n",
            "\u001b[32m[I 2023-02-08 10:39:23,398]\u001b[0m Trial 12 finished with value: 0.06376788765192032 and parameters: {'num_layers': 1, 'n_neurons_0': 170, 'dropout_0': 0.49304042373298307, 'lr': 0.046227377473334115}. Best is trial 0 with value: 0.052408766001462936.\u001b[0m\n",
            "\u001b[32m[I 2023-02-08 10:39:27,847]\u001b[0m Trial 13 finished with value: 0.06609328836202621 and parameters: {'num_layers': 1, 'n_neurons_0': 121, 'dropout_0': 0.4514408015031026, 'lr': 0.024303088205486417}. Best is trial 0 with value: 0.052408766001462936.\u001b[0m\n",
            "\u001b[32m[I 2023-02-08 10:39:33,686]\u001b[0m Trial 14 finished with value: 0.0583537295460701 and parameters: {'num_layers': 2, 'n_neurons_0': 236, 'dropout_0': 0.44510670225818966, 'n_neurons_1': 116, 'dropout_1': 0.2067834080100496, 'lr': 0.09601267359377369}. Best is trial 0 with value: 0.052408766001462936.\u001b[0m\n",
            "\u001b[32m[I 2023-02-08 10:39:38,663]\u001b[0m Trial 15 finished with value: 0.18433137238025665 and parameters: {'num_layers': 2, 'n_neurons_0': 244, 'dropout_0': 0.4518962984977581, 'n_neurons_1': 118, 'dropout_1': 0.20579832921015087, 'lr': 0.01521014039342702}. Best is trial 0 with value: 0.052408766001462936.\u001b[0m\n",
            "\u001b[32m[I 2023-02-08 10:39:45,647]\u001b[0m Trial 16 finished with value: 0.057434938848018646 and parameters: {'num_layers': 3, 'n_neurons_0': 296, 'dropout_0': 0.4257415662862931, 'n_neurons_1': 24, 'dropout_1': 0.3129167716056667, 'n_neurons_2': 390, 'dropout_2': 0.4936045111380959, 'lr': 0.018520149301723177}. Best is trial 0 with value: 0.052408766001462936.\u001b[0m\n",
            "\u001b[32m[I 2023-02-08 10:39:51,098]\u001b[0m Trial 17 finished with value: 0.07363046705722809 and parameters: {'num_layers': 3, 'n_neurons_0': 312, 'dropout_0': 0.4218974999590416, 'n_neurons_1': 29, 'dropout_1': 0.31700928268806183, 'n_neurons_2': 382, 'dropout_2': 0.49832966915401217, 'lr': 0.02579033515268739}. Best is trial 0 with value: 0.052408766001462936.\u001b[0m\n",
            "\u001b[32m[I 2023-02-08 10:40:01,111]\u001b[0m Trial 18 finished with value: 0.6716502904891968 and parameters: {'num_layers': 3, 'n_neurons_0': 325, 'dropout_0': 0.4983052498334155, 'n_neurons_1': 256, 'dropout_1': 0.36572089282128806, 'n_neurons_2': 379, 'dropout_2': 0.499551054894025, 'lr': 0.01104371308912818}. Best is trial 0 with value: 0.052408766001462936.\u001b[0m\n",
            "\u001b[32m[I 2023-02-08 10:40:06,739]\u001b[0m Trial 19 finished with value: 0.4302106201648712 and parameters: {'num_layers': 3, 'n_neurons_0': 95, 'dropout_0': 0.45585830284886913, 'n_neurons_1': 160, 'dropout_1': 0.3120035348261792, 'n_neurons_2': 291, 'dropout_2': 0.41378776774563375, 'lr': 0.031767084501856994}. Best is trial 0 with value: 0.052408766001462936.\u001b[0m\n",
            "\u001b[32m[I 2023-02-08 10:40:14,180]\u001b[0m Trial 20 finished with value: 0.4226073920726776 and parameters: {'num_layers': 4, 'n_neurons_0': 204, 'dropout_0': 0.42663035560167123, 'n_neurons_1': 71, 'dropout_1': 0.40321011914725563, 'n_neurons_2': 309, 'dropout_2': 0.43289420071241014, 'n_neurons_3': 20, 'dropout_3': 0.21326944638749948, 'lr': 0.008584491579935035}. Best is trial 0 with value: 0.052408766001462936.\u001b[0m\n",
            "\u001b[32m[I 2023-02-08 10:40:19,017]\u001b[0m Trial 21 finished with value: 0.06007622182369232 and parameters: {'num_layers': 2, 'n_neurons_0': 252, 'dropout_0': 0.4627477709134811, 'n_neurons_1': 142, 'dropout_1': 0.26688158320627964, 'lr': 0.09283054236933815}. Best is trial 0 with value: 0.052408766001462936.\u001b[0m\n",
            "\u001b[32m[I 2023-02-08 10:40:23,987]\u001b[0m Trial 22 finished with value: 0.0878082811832428 and parameters: {'num_layers': 2, 'n_neurons_0': 343, 'dropout_0': 0.43483685202963496, 'n_neurons_1': 85, 'dropout_1': 0.20010784076003002, 'lr': 0.04445191839881538}. Best is trial 0 with value: 0.052408766001462936.\u001b[0m\n",
            "\u001b[32m[I 2023-02-08 10:40:29,928]\u001b[0m Trial 23 finished with value: 0.0954292044043541 and parameters: {'num_layers': 3, 'n_neurons_0': 236, 'dropout_0': 0.39254841471117075, 'n_neurons_1': 12, 'dropout_1': 0.31340130687473167, 'n_neurons_2': 134, 'dropout_2': 0.36201684470391693, 'lr': 0.09786773339356064}. Best is trial 0 with value: 0.052408766001462936.\u001b[0m\n",
            "\u001b[32m[I 2023-02-08 10:40:33,588]\u001b[0m Trial 24 finished with value: 0.09637437015771866 and parameters: {'num_layers': 1, 'n_neurons_0': 293, 'dropout_0': 0.4656929119799079, 'lr': 0.017588072135092267}. Best is trial 0 with value: 0.052408766001462936.\u001b[0m\n",
            "\u001b[32m[I 2023-02-08 10:40:38,273]\u001b[0m Trial 25 finished with value: 0.10201078653335571 and parameters: {'num_layers': 2, 'n_neurons_0': 221, 'dropout_0': 0.43389091531479274, 'n_neurons_1': 165, 'dropout_1': 0.2576617644538932, 'lr': 0.04743717514638651}. Best is trial 0 with value: 0.052408766001462936.\u001b[0m\n",
            "\u001b[32m[I 2023-02-08 10:40:45,608]\u001b[0m Trial 26 finished with value: 0.15609320998191833 and parameters: {'num_layers': 3, 'n_neurons_0': 271, 'dropout_0': 0.4757642941560797, 'n_neurons_1': 63, 'dropout_1': 0.23702025941095411, 'n_neurons_2': 397, 'dropout_2': 0.4600668361951789, 'lr': 0.0163354933741204}. Best is trial 0 with value: 0.052408766001462936.\u001b[0m\n",
            "\u001b[32m[I 2023-02-08 10:40:49,593]\u001b[0m Trial 27 finished with value: 0.094394251704216 and parameters: {'num_layers': 2, 'n_neurons_0': 179, 'dropout_0': 0.4380528783326047, 'n_neurons_1': 55, 'dropout_1': 0.29139563555579767, 'lr': 0.04212544228073116}. Best is trial 0 with value: 0.052408766001462936.\u001b[0m\n",
            "\u001b[32m[I 2023-02-08 10:40:53,515]\u001b[0m Trial 28 finished with value: 0.09758161753416061 and parameters: {'num_layers': 1, 'n_neurons_0': 337, 'dropout_0': 0.4089037419048149, 'lr': 0.006816505850113112}. Best is trial 0 with value: 0.052408766001462936.\u001b[0m\n",
            "\u001b[32m[I 2023-02-08 10:41:03,203]\u001b[0m Trial 29 finished with value: 0.3748534619808197 and parameters: {'num_layers': 4, 'n_neurons_0': 295, 'dropout_0': 0.4704676206583437, 'n_neurons_1': 278, 'dropout_1': 0.3462695975632275, 'n_neurons_2': 104, 'dropout_2': 0.3744933036748682, 'n_neurons_3': 368, 'dropout_3': 0.20192376243442425, 'lr': 0.025815906475374586}. Best is trial 0 with value: 0.052408766001462936.\u001b[0m\n",
            "\u001b[32m[I 2023-02-08 10:41:08,241]\u001b[0m Trial 30 finished with value: 0.09633634984493256 and parameters: {'num_layers': 2, 'n_neurons_0': 210, 'dropout_0': 0.34070380615333656, 'n_neurons_1': 181, 'dropout_1': 0.22760697727034637, 'lr': 0.05629799978403242}. Best is trial 0 with value: 0.052408766001462936.\u001b[0m\n",
            "\u001b[32m[I 2023-02-08 10:41:13,038]\u001b[0m Trial 31 finished with value: 0.07524922490119934 and parameters: {'num_layers': 1, 'n_neurons_0': 138, 'dropout_0': 0.4938424233613903, 'lr': 0.09181665502368767}. Best is trial 0 with value: 0.052408766001462936.\u001b[0m\n",
            "\u001b[32m[I 2023-02-08 10:41:16,615]\u001b[0m Trial 32 finished with value: 0.05588288605213165 and parameters: {'num_layers': 1, 'n_neurons_0': 157, 'dropout_0': 0.4743118606055962, 'lr': 0.05123937225068235}. Best is trial 0 with value: 0.052408766001462936.\u001b[0m\n",
            "\u001b[32m[I 2023-02-08 10:41:20,016]\u001b[0m Trial 33 finished with value: 0.08388927578926086 and parameters: {'num_layers': 1, 'n_neurons_0': 106, 'dropout_0': 0.47625048101870576, 'lr': 0.028697813305631304}. Best is trial 0 with value: 0.052408766001462936.\u001b[0m\n",
            "\u001b[32m[I 2023-02-08 10:41:27,340]\u001b[0m Trial 34 finished with value: 0.10938332974910736 and parameters: {'num_layers': 3, 'n_neurons_0': 271, 'dropout_0': 0.44824592310480155, 'n_neurons_1': 115, 'dropout_1': 0.2912583170190485, 'n_neurons_2': 246, 'dropout_2': 0.320642366403994, 'lr': 0.05744626443276496}. Best is trial 0 with value: 0.052408766001462936.\u001b[0m\n",
            "\u001b[32m[I 2023-02-08 10:41:30,767]\u001b[0m Trial 35 finished with value: 0.07863795012235641 and parameters: {'num_layers': 1, 'n_neurons_0': 54, 'dropout_0': 0.4211964301248284, 'lr': 0.011897100575084836}. Best is trial 0 with value: 0.052408766001462936.\u001b[0m\n",
            "\u001b[32m[I 2023-02-08 10:41:34,567]\u001b[0m Trial 36 finished with value: 0.10401638597249985 and parameters: {'num_layers': 1, 'n_neurons_0': 361, 'dropout_0': 0.46840770627974476, 'lr': 0.005711326942382223}. Best is trial 0 with value: 0.052408766001462936.\u001b[0m\n",
            "\u001b[32m[I 2023-02-08 10:41:40,114]\u001b[0m Trial 37 finished with value: 0.2103537619113922 and parameters: {'num_layers': 2, 'n_neurons_0': 149, 'dropout_0': 0.44634698943815987, 'n_neurons_1': 93, 'dropout_1': 0.22289824219568652, 'lr': 0.017443307161885566}. Best is trial 0 with value: 0.052408766001462936.\u001b[0m\n",
            "\u001b[32m[I 2023-02-08 10:41:46,713]\u001b[0m Trial 38 finished with value: 0.7805616855621338 and parameters: {'num_layers': 3, 'n_neurons_0': 398, 'dropout_0': 0.48269431045675876, 'n_neurons_1': 128, 'dropout_1': 0.3872456073788888, 'n_neurons_2': 333, 'dropout_2': 0.39789191677715496, 'lr': 0.0025830956900129757}. Best is trial 0 with value: 0.052408766001462936.\u001b[0m\n",
            "\u001b[32m[I 2023-02-08 10:41:50,406]\u001b[0m Trial 39 finished with value: 0.09385908395051956 and parameters: {'num_layers': 2, 'n_neurons_0': 171, 'dropout_0': 0.49917963404069043, 'n_neurons_1': 48, 'dropout_1': 0.25363800655478125, 'lr': 0.06314334551310664}. Best is trial 0 with value: 0.052408766001462936.\u001b[0m\n",
            "\u001b[32m[I 2023-02-08 10:41:55,300]\u001b[0m Trial 40 finished with value: 0.08112451434135437 and parameters: {'num_layers': 1, 'n_neurons_0': 78, 'dropout_0': 0.3962508630320218, 'lr': 0.03246745961128563}. Best is trial 0 with value: 0.052408766001462936.\u001b[0m\n",
            "\u001b[32m[I 2023-02-08 10:41:58,664]\u001b[0m Trial 41 finished with value: 0.05358247831463814 and parameters: {'num_layers': 1, 'n_neurons_0': 159, 'dropout_0': 0.48116414723592926, 'lr': 0.06594213358522859}. Best is trial 0 with value: 0.052408766001462936.\u001b[0m\n",
            "\u001b[32m[I 2023-02-08 10:42:02,020]\u001b[0m Trial 42 finished with value: 0.07647848129272461 and parameters: {'num_layers': 1, 'n_neurons_0': 184, 'dropout_0': 0.46409707152423096, 'lr': 0.06397461082850732}. Best is trial 0 with value: 0.052408766001462936.\u001b[0m\n",
            "\u001b[32m[I 2023-02-08 10:42:05,469]\u001b[0m Trial 43 finished with value: 0.07415802031755447 and parameters: {'num_layers': 1, 'n_neurons_0': 115, 'dropout_0': 0.4805839142295133, 'lr': 0.038765557022349}. Best is trial 0 with value: 0.052408766001462936.\u001b[0m\n",
            "\u001b[32m[I 2023-02-08 10:42:10,178]\u001b[0m Trial 44 finished with value: 0.07639871537685394 and parameters: {'num_layers': 1, 'n_neurons_0': 151, 'dropout_0': 0.44341219801241283, 'lr': 0.056197151979155674}. Best is trial 0 with value: 0.052408766001462936.\u001b[0m\n",
            "\u001b[32m[I 2023-02-08 10:42:13,651]\u001b[0m Trial 45 finished with value: 0.07595618069171906 and parameters: {'num_layers': 1, 'n_neurons_0': 226, 'dropout_0': 0.4165012131575891, 'lr': 0.00408827188465695}. Best is trial 0 with value: 0.052408766001462936.\u001b[0m\n",
            "\u001b[32m[I 2023-02-08 10:42:17,113]\u001b[0m Trial 46 finished with value: 0.07479822635650635 and parameters: {'num_layers': 2, 'n_neurons_0': 56, 'dropout_0': 0.48403143430657836, 'n_neurons_1': 14, 'dropout_1': 0.34250475341688497, 'lr': 0.07359612496486873}. Best is trial 0 with value: 0.052408766001462936.\u001b[0m\n",
            "\u001b[32m[I 2023-02-08 10:42:21,027]\u001b[0m Trial 47 finished with value: 0.07105269283056259 and parameters: {'num_layers': 1, 'n_neurons_0': 89, 'dropout_0': 0.4581623350225054, 'lr': 0.02391314682390753}. Best is trial 0 with value: 0.052408766001462936.\u001b[0m\n",
            "\u001b[32m[I 2023-02-08 10:42:26,469]\u001b[0m Trial 48 finished with value: 0.13604024052619934 and parameters: {'num_layers': 2, 'n_neurons_0': 162, 'dropout_0': 0.4996055024525408, 'n_neurons_1': 204, 'dropout_1': 0.21757768631488703, 'lr': 0.09219988156673374}. Best is trial 0 with value: 0.052408766001462936.\u001b[0m\n",
            "\u001b[32m[I 2023-02-08 10:42:31,833]\u001b[0m Trial 49 finished with value: 0.43197670578956604 and parameters: {'num_layers': 3, 'n_neurons_0': 127, 'dropout_0': 0.4299690863655508, 'n_neurons_1': 188, 'dropout_1': 0.2843204231913936, 'n_neurons_2': 231, 'dropout_2': 0.45572076245030974, 'lr': 0.037283289770612724}. Best is trial 0 with value: 0.052408766001462936.\u001b[0m\n",
            "\u001b[32m[I 2023-02-08 10:42:40,344]\u001b[0m Trial 50 finished with value: 0.4541155695915222 and parameters: {'num_layers': 4, 'n_neurons_0': 12, 'dropout_0': 0.45360466565182517, 'n_neurons_1': 228, 'dropout_1': 0.2483071658294313, 'n_neurons_2': 342, 'dropout_2': 0.4600073948596648, 'n_neurons_3': 147, 'dropout_3': 0.39258292069019135, 'lr': 0.0016074062666702217}. Best is trial 0 with value: 0.052408766001462936.\u001b[0m\n",
            "\u001b[32m[I 2023-02-08 10:42:43,650]\u001b[0m Trial 51 finished with value: 0.056730613112449646 and parameters: {'num_layers': 1, 'n_neurons_0': 196, 'dropout_0': 0.4886272106925121, 'lr': 0.07152385172188191}. Best is trial 0 with value: 0.052408766001462936.\u001b[0m\n",
            "\u001b[32m[I 2023-02-08 10:42:47,002]\u001b[0m Trial 52 finished with value: 0.06759423762559891 and parameters: {'num_layers': 1, 'n_neurons_0': 196, 'dropout_0': 0.4877070075932768, 'lr': 0.06447386847475331}. Best is trial 0 with value: 0.052408766001462936.\u001b[0m\n",
            "\u001b[32m[I 2023-02-08 10:42:51,593]\u001b[0m Trial 53 finished with value: 0.061648085713386536 and parameters: {'num_layers': 1, 'n_neurons_0': 210, 'dropout_0': 0.47422831277652394, 'lr': 0.09541949228076141}. Best is trial 0 with value: 0.052408766001462936.\u001b[0m\n",
            "\u001b[32m[I 2023-02-08 10:42:55,678]\u001b[0m Trial 54 finished with value: 0.07299454510211945 and parameters: {'num_layers': 1, 'n_neurons_0': 265, 'dropout_0': 0.459565951149517, 'lr': 0.04152518586790336}. Best is trial 0 with value: 0.052408766001462936.\u001b[0m\n",
            "\u001b[32m[I 2023-02-08 10:43:01,998]\u001b[0m Trial 55 finished with value: 0.03747961297631264 and parameters: {'num_layers': 1, 'n_neurons_0': 190, 'dropout_0': 0.48829955262401326, 'lr': 0.06477714591040062}. Best is trial 55 with value: 0.03747961297631264.\u001b[0m\n",
            "\u001b[32m[I 2023-02-08 10:43:07,221]\u001b[0m Trial 56 finished with value: 0.08244580030441284 and parameters: {'num_layers': 1, 'n_neurons_0': 191, 'dropout_0': 0.48945509000737186, 'lr': 0.021889657777169936}. Best is trial 55 with value: 0.03747961297631264.\u001b[0m\n",
            "\u001b[32m[I 2023-02-08 10:43:10,605]\u001b[0m Trial 57 finished with value: 0.07755012065172195 and parameters: {'num_layers': 1, 'n_neurons_0': 162, 'dropout_0': 0.4692397029543506, 'lr': 0.031069878976520606}. Best is trial 55 with value: 0.03747961297631264.\u001b[0m\n",
            "\u001b[32m[I 2023-02-08 10:43:13,896]\u001b[0m Trial 58 finished with value: 0.05594288185238838 and parameters: {'num_layers': 1, 'n_neurons_0': 143, 'dropout_0': 0.4879950350088169, 'lr': 0.04855075647454617}. Best is trial 55 with value: 0.03747961297631264.\u001b[0m\n",
            "\u001b[32m[I 2023-02-08 10:43:17,248]\u001b[0m Trial 59 finished with value: 0.050635673105716705 and parameters: {'num_layers': 1, 'n_neurons_0': 143, 'dropout_0': 0.4907449648814044, 'lr': 0.04869176911909671}. Best is trial 55 with value: 0.03747961297631264.\u001b[0m\n",
            "\u001b[32m[I 2023-02-08 10:43:22,263]\u001b[0m Trial 60 finished with value: 0.07702364027500153 and parameters: {'num_layers': 1, 'n_neurons_0': 137, 'dropout_0': 0.4983499329669398, 'lr': 0.01406652396181092}. Best is trial 55 with value: 0.03747961297631264.\u001b[0m\n",
            "\u001b[32m[I 2023-02-08 10:43:25,735]\u001b[0m Trial 61 finished with value: 0.04694494977593422 and parameters: {'num_layers': 1, 'n_neurons_0': 109, 'dropout_0': 0.4856736396373285, 'lr': 0.05114083734126543}. Best is trial 55 with value: 0.03747961297631264.\u001b[0m\n",
            "\u001b[32m[I 2023-02-08 10:43:29,126]\u001b[0m Trial 62 finished with value: 0.053902655839920044 and parameters: {'num_layers': 1, 'n_neurons_0': 105, 'dropout_0': 0.4787589155134787, 'lr': 0.04691846488011893}. Best is trial 55 with value: 0.03747961297631264.\u001b[0m\n",
            "\u001b[32m[I 2023-02-08 10:43:33,161]\u001b[0m Trial 63 finished with value: 0.07712659984827042 and parameters: {'num_layers': 1, 'n_neurons_0': 108, 'dropout_0': 0.46980152851187085, 'lr': 0.03552676874361122}. Best is trial 55 with value: 0.03747961297631264.\u001b[0m\n",
            "\u001b[32m[I 2023-02-08 10:43:37,396]\u001b[0m Trial 64 finished with value: 0.08175061643123627 and parameters: {'num_layers': 1, 'n_neurons_0': 97, 'dropout_0': 0.47593724421111094, 'lr': 0.021495024468728193}. Best is trial 55 with value: 0.03747961297631264.\u001b[0m\n",
            "\u001b[32m[I 2023-02-08 10:43:40,612]\u001b[0m Trial 65 finished with value: 0.07595684379339218 and parameters: {'num_layers': 1, 'n_neurons_0': 122, 'dropout_0': 0.48127848952813396, 'lr': 0.052116455416597894}. Best is trial 55 with value: 0.03747961297631264.\u001b[0m\n",
            "\u001b[32m[I 2023-02-08 10:43:43,930]\u001b[0m Trial 66 finished with value: 0.08974213898181915 and parameters: {'num_layers': 1, 'n_neurons_0': 61, 'dropout_0': 0.45881685573821407, 'lr': 0.07019978791562281}. Best is trial 55 with value: 0.03747961297631264.\u001b[0m\n",
            "\u001b[32m[I 2023-02-08 10:43:47,936]\u001b[0m Trial 67 finished with value: 0.07221046835184097 and parameters: {'num_layers': 1, 'n_neurons_0': 78, 'dropout_0': 0.49174271267376496, 'lr': 0.010530082425056576}. Best is trial 55 with value: 0.03747961297631264.\u001b[0m\n",
            "\u001b[32m[I 2023-02-08 10:43:52,064]\u001b[0m Trial 68 finished with value: 0.06521511822938919 and parameters: {'num_layers': 1, 'n_neurons_0': 37, 'dropout_0': 0.4798214739805913, 'lr': 0.03033884291618541}. Best is trial 55 with value: 0.03747961297631264.\u001b[0m\n",
            "\u001b[32m[I 2023-02-08 10:43:55,592]\u001b[0m Trial 69 finished with value: 0.05317703261971474 and parameters: {'num_layers': 1, 'n_neurons_0': 160, 'dropout_0': 0.4385357901126737, 'lr': 0.04714354486745919}. Best is trial 55 with value: 0.03747961297631264.\u001b[0m\n",
            "\u001b[32m[I 2023-02-08 10:43:58,981]\u001b[0m Trial 70 finished with value: 0.07197383791208267 and parameters: {'num_layers': 1, 'n_neurons_0': 129, 'dropout_0': 0.43917434202741634, 'lr': 0.09896757719530212}. Best is trial 55 with value: 0.03747961297631264.\u001b[0m\n",
            "\u001b[32m[I 2023-02-08 10:44:03,596]\u001b[0m Trial 71 finished with value: 0.07472126930952072 and parameters: {'num_layers': 1, 'n_neurons_0': 172, 'dropout_0': 0.46506122317086757, 'lr': 0.040622461084778363}. Best is trial 55 with value: 0.03747961297631264.\u001b[0m\n",
            "\u001b[32m[I 2023-02-08 10:44:07,352]\u001b[0m Trial 72 finished with value: 0.07500606775283813 and parameters: {'num_layers': 1, 'n_neurons_0': 89, 'dropout_0': 0.4738760265458263, 'lr': 0.0521731496913092}. Best is trial 55 with value: 0.03747961297631264.\u001b[0m\n",
            "\u001b[32m[I 2023-02-08 10:44:10,756]\u001b[0m Trial 73 finished with value: 0.07476656883955002 and parameters: {'num_layers': 1, 'n_neurons_0': 161, 'dropout_0': 0.45206593662437583, 'lr': 0.0752054494168083}. Best is trial 55 with value: 0.03747961297631264.\u001b[0m\n",
            "\u001b[32m[I 2023-02-08 10:44:14,408]\u001b[0m Trial 74 finished with value: 0.06499752402305603 and parameters: {'num_layers': 1, 'n_neurons_0': 115, 'dropout_0': 0.49246308708228337, 'lr': 0.02181925123767623}. Best is trial 55 with value: 0.03747961297631264.\u001b[0m\n",
            "\u001b[32m[I 2023-02-08 10:44:19,439]\u001b[0m Trial 75 finished with value: 0.06466933339834213 and parameters: {'num_layers': 1, 'n_neurons_0': 153, 'dropout_0': 0.4813739079946364, 'lr': 0.048550605107675886}. Best is trial 55 with value: 0.03747961297631264.\u001b[0m\n",
            "\u001b[32m[I 2023-02-08 10:44:22,814]\u001b[0m Trial 76 finished with value: 0.05514091998338699 and parameters: {'num_layers': 1, 'n_neurons_0': 103, 'dropout_0': 0.49908935049092684, 'lr': 0.07603584239994826}. Best is trial 55 with value: 0.03747961297631264.\u001b[0m\n",
            "\u001b[32m[I 2023-02-08 10:44:26,177]\u001b[0m Trial 77 finished with value: 0.05603477358818054 and parameters: {'num_layers': 1, 'n_neurons_0': 111, 'dropout_0': 0.4993997869386681, 'lr': 0.07441232167082003}. Best is trial 55 with value: 0.03747961297631264.\u001b[0m\n",
            "\u001b[32m[I 2023-02-08 10:44:29,652]\u001b[0m Trial 78 finished with value: 0.07273124158382416 and parameters: {'num_layers': 1, 'n_neurons_0': 97, 'dropout_0': 0.490624243599722, 'lr': 0.03360172036405054}. Best is trial 55 with value: 0.03747961297631264.\u001b[0m\n",
            "\u001b[32m[I 2023-02-08 10:44:34,485]\u001b[0m Trial 79 finished with value: 0.09260526299476624 and parameters: {'num_layers': 1, 'n_neurons_0': 69, 'dropout_0': 0.46326531672653315, 'lr': 0.08079725918448744}. Best is trial 55 with value: 0.03747961297631264.\u001b[0m\n",
            "\u001b[32m[I 2023-02-08 10:44:37,862]\u001b[0m Trial 80 finished with value: 0.08666698634624481 and parameters: {'num_layers': 1, 'n_neurons_0': 136, 'dropout_0': 0.4480146288610795, 'lr': 0.0251210287390418}. Best is trial 55 with value: 0.03747961297631264.\u001b[0m\n",
            "\u001b[32m[I 2023-02-08 10:44:41,343]\u001b[0m Trial 81 finished with value: 0.07361956685781479 and parameters: {'num_layers': 1, 'n_neurons_0': 181, 'dropout_0': 0.47091895509890125, 'lr': 0.058640264378262065}. Best is trial 55 with value: 0.03747961297631264.\u001b[0m\n",
            "\u001b[32m[I 2023-02-08 10:44:45,450]\u001b[0m Trial 82 finished with value: 0.08218448609113693 and parameters: {'num_layers': 1, 'n_neurons_0': 147, 'dropout_0': 0.4822152740839178, 'lr': 0.04327127465625571}. Best is trial 55 with value: 0.03747961297631264.\u001b[0m\n",
            "\u001b[32m[I 2023-02-08 10:44:49,782]\u001b[0m Trial 83 finished with value: 0.05459340289235115 and parameters: {'num_layers': 1, 'n_neurons_0': 123, 'dropout_0': 0.4944470221714032, 'lr': 0.06181356130050469}. Best is trial 55 with value: 0.03747961297631264.\u001b[0m\n",
            "\u001b[32m[I 2023-02-08 10:44:53,149]\u001b[0m Trial 84 finished with value: 0.04926764592528343 and parameters: {'num_layers': 1, 'n_neurons_0': 123, 'dropout_0': 0.494540675565012, 'lr': 0.09972403320617886}. Best is trial 55 with value: 0.03747961297631264.\u001b[0m\n",
            "\u001b[32m[I 2023-02-08 10:44:56,517]\u001b[0m Trial 85 finished with value: 0.07134582102298737 and parameters: {'num_layers': 1, 'n_neurons_0': 124, 'dropout_0': 0.49183620159702535, 'lr': 0.09809202674857873}. Best is trial 55 with value: 0.03747961297631264.\u001b[0m\n",
            "\u001b[32m[I 2023-02-08 10:45:00,857]\u001b[0m Trial 86 finished with value: 0.06510766595602036 and parameters: {'num_layers': 1, 'n_neurons_0': 117, 'dropout_0': 0.4846266912560566, 'lr': 0.06314043763390291}. Best is trial 55 with value: 0.03747961297631264.\u001b[0m\n",
            "\u001b[32m[I 2023-02-08 10:45:04,706]\u001b[0m Trial 87 finished with value: 0.10686521977186203 and parameters: {'num_layers': 1, 'n_neurons_0': 86, 'dropout_0': 0.47856400986406616, 'lr': 0.03676238150599774}. Best is trial 55 with value: 0.03747961297631264.\u001b[0m\n",
            "\u001b[32m[I 2023-02-08 10:45:08,115]\u001b[0m Trial 88 finished with value: 0.07622896879911423 and parameters: {'num_layers': 1, 'n_neurons_0': 173, 'dropout_0': 0.4589554792848806, 'lr': 0.02740975570009569}. Best is trial 55 with value: 0.03747961297631264.\u001b[0m\n",
            "\u001b[32m[I 2023-02-08 10:45:13,637]\u001b[0m Trial 89 finished with value: 0.44634392857551575 and parameters: {'num_layers': 2, 'n_neurons_0': 133, 'dropout_0': 0.4671159931436596, 'n_neurons_1': 400, 'dropout_1': 0.4955220371154778, 'lr': 0.04958929602607595}. Best is trial 55 with value: 0.03747961297631264.\u001b[0m\n",
            "\u001b[32m[I 2023-02-08 10:45:18,208]\u001b[0m Trial 90 finished with value: 0.07461722195148468 and parameters: {'num_layers': 1, 'n_neurons_0': 146, 'dropout_0': 0.48836702595358034, 'lr': 0.07987168343437219}. Best is trial 55 with value: 0.03747961297631264.\u001b[0m\n",
            "\u001b[32m[I 2023-02-08 10:45:21,496]\u001b[0m Trial 91 finished with value: 0.06684722751379013 and parameters: {'num_layers': 1, 'n_neurons_0': 104, 'dropout_0': 0.495376007124486, 'lr': 0.06701387232265112}. Best is trial 55 with value: 0.03747961297631264.\u001b[0m\n",
            "\u001b[32m[I 2023-02-08 10:45:24,841]\u001b[0m Trial 92 finished with value: 0.07531826943159103 and parameters: {'num_layers': 1, 'n_neurons_0': 128, 'dropout_0': 0.4999225457626377, 'lr': 0.08024888005428861}. Best is trial 55 with value: 0.03747961297631264.\u001b[0m\n",
            "\u001b[32m[I 2023-02-08 10:45:28,940]\u001b[0m Trial 93 finished with value: 0.06795646250247955 and parameters: {'num_layers': 1, 'n_neurons_0': 101, 'dropout_0': 0.47634697524938535, 'lr': 0.056057021989676645}. Best is trial 55 with value: 0.03747961297631264.\u001b[0m\n",
            "\u001b[32m[I 2023-02-08 10:45:33,025]\u001b[0m Trial 94 finished with value: 0.05134958773851395 and parameters: {'num_layers': 1, 'n_neurons_0': 79, 'dropout_0': 0.4938455204919347, 'lr': 0.03971128257749597}. Best is trial 55 with value: 0.03747961297631264.\u001b[0m\n",
            "\u001b[32m[I 2023-02-08 10:45:36,230]\u001b[0m Trial 95 finished with value: 0.06404159218072891 and parameters: {'num_layers': 1, 'n_neurons_0': 80, 'dropout_0': 0.4858108697744886, 'lr': 0.042079354362331664}. Best is trial 55 with value: 0.03747961297631264.\u001b[0m\n",
            "\u001b[32m[I 2023-02-08 10:45:39,374]\u001b[0m Trial 96 finished with value: 0.07237489521503448 and parameters: {'num_layers': 1, 'n_neurons_0': 45, 'dropout_0': 0.49239181836834034, 'lr': 0.03236736930138131}. Best is trial 55 with value: 0.03747961297631264.\u001b[0m\n",
            "\u001b[32m[I 2023-02-08 10:45:43,495]\u001b[0m Trial 97 finished with value: 0.08195874094963074 and parameters: {'num_layers': 1, 'n_neurons_0': 65, 'dropout_0': 0.4762961004448235, 'lr': 0.05885348084586596}. Best is trial 55 with value: 0.03747961297631264.\u001b[0m\n",
            "\u001b[32m[I 2023-02-08 10:45:47,748]\u001b[0m Trial 98 finished with value: 0.07511294633150101 and parameters: {'num_layers': 1, 'n_neurons_0': 187, 'dropout_0': 0.4549060685310277, 'lr': 0.018846757865243424}. Best is trial 55 with value: 0.03747961297631264.\u001b[0m\n",
            "\u001b[32m[I 2023-02-08 10:45:51,115]\u001b[0m Trial 99 finished with value: 0.07976163923740387 and parameters: {'num_layers': 1, 'n_neurons_0': 139, 'dropout_0': 0.46877010843296113, 'lr': 0.04474395275676936}. Best is trial 55 with value: 0.03747961297631264.\u001b[0m\n"
          ]
        }
      ]
    }
  ]
}